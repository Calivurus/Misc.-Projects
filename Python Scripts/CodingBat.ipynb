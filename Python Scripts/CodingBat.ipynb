{
 "cells": [
  {
   "cell_type": "markdown",
   "id": "7b032b54",
   "metadata": {},
   "source": [
    "The parameter weekday is True if it is a weekday, and the parameter vacation is True if we are on vacation. We sleep in if it is not a weekday or we're on vacation. Return True if we sleep in."
   ]
  },
  {
   "cell_type": "code",
   "execution_count": 3,
   "id": "fc49ee0f",
   "metadata": {},
   "outputs": [],
   "source": [
    "def sleep_in(weekday, vacation):\n",
    "    if not weekday:\n",
    "        return True\n",
    "    elif vacation:\n",
    "        return True\n",
    "    else:\n",
    "        return False\n",
    "# website solution\n",
    "# def sleep_in(weekday, vacation):\n",
    "  # if not weekday or vacation:\n",
    "    # return True\n",
    "  # else:\n",
    "    # return False"
   ]
  },
  {
   "cell_type": "markdown",
   "id": "085f86a8",
   "metadata": {},
   "source": [
    "We have two monkeys, a and b, and the parameters a_smile and b_smile indicate if each is smiling. We are in trouble if they are both smiling or if neither of them is smiling. Return True if we are in trouble."
   ]
  },
  {
   "cell_type": "code",
   "execution_count": 8,
   "id": "bbff5f88",
   "metadata": {},
   "outputs": [],
   "source": [
    "def monkey_trouble(a_smile, b_smile):\n",
    "    if a_smile and b_smile:\n",
    "        return True\n",
    "    elif not a_smile and not b_smile:\n",
    "        return True\n",
    "    else:\n",
    "        return False"
   ]
  },
  {
   "cell_type": "markdown",
   "id": "c1cfae8e",
   "metadata": {},
   "source": [
    "Given two int values, return their sum. Unless the two values are the same, then return double their sum.\n",
    "\n"
   ]
  },
  {
   "cell_type": "code",
   "execution_count": 11,
   "id": "a31a84cc",
   "metadata": {},
   "outputs": [],
   "source": [
    "def sum_double(a, b):\n",
    "    if a != b:\n",
    "        return int(a+b)\n",
    "    elif a==b:\n",
    "        return int(a*4)\n",
    "# def sum_double(a, b):\n",
    "  # sum = a + b\n",
    "  # if a == b:\n",
    "    # sum = sum * 2\n",
    "  # return sum"
   ]
  },
  {
   "cell_type": "markdown",
   "id": "1e6f0f2b",
   "metadata": {},
   "source": [
    "\n",
    "Given an int n, return the absolute difference between n and 21, except return double the absolute difference if n is over 21."
   ]
  },
  {
   "cell_type": "code",
   "execution_count": 12,
   "id": "597a5e62",
   "metadata": {},
   "outputs": [],
   "source": [
    "def diff21(n):\n",
    "    if 21>=n:\n",
    "        return 21-n\n",
    "    elif 21<n:\n",
    "        return abs((21-n)*2)"
   ]
  },
  {
   "cell_type": "markdown",
   "id": "42c372c2",
   "metadata": {},
   "source": [
    "\n",
    "We have a loud talking parrot. The \"hour\" parameter is the current hour time in the range 0..23. We are in trouble if the parrot is talking and the hour is before 7 or after 20. Return True if we are in trouble."
   ]
  },
  {
   "cell_type": "code",
   "execution_count": 14,
   "id": "608b4dfb",
   "metadata": {},
   "outputs": [],
   "source": [
    "def parrot_trouble(talking, hour):\n",
    "    if (talking and (hour < 7 or hour > 20)):\n",
    "        return True\n",
    "    else:\n",
    "        return False"
   ]
  },
  {
   "cell_type": "markdown",
   "id": "8fe5e164",
   "metadata": {},
   "source": [
    "Given 2 ints, a and b, return True if one if them is 10 or if their sum is 10."
   ]
  },
  {
   "cell_type": "code",
   "execution_count": 15,
   "id": "5c9dc40b",
   "metadata": {},
   "outputs": [],
   "source": [
    "def makes10(a, b):\n",
    "      return (a == 10 or b == 10 or a+b == 10)"
   ]
  },
  {
   "cell_type": "markdown",
   "id": "9d68c225",
   "metadata": {},
   "source": [
    "\n",
    "Given an int n, return True if it is within 10 of 100 or 200. Note: abs(num) computes the absolute value of a number."
   ]
  },
  {
   "cell_type": "code",
   "execution_count": 1,
   "id": "9fca67fe",
   "metadata": {},
   "outputs": [],
   "source": [
    "def near_hundred(n):\n",
    "    pass"
   ]
  },
  {
   "cell_type": "code",
   "execution_count": null,
   "id": "7b1cd744",
   "metadata": {},
   "outputs": [],
   "source": []
  }
 ],
 "metadata": {
  "kernelspec": {
   "display_name": "Python 3 (ipykernel)",
   "language": "python",
   "name": "python3"
  },
  "language_info": {
   "codemirror_mode": {
    "name": "ipython",
    "version": 3
   },
   "file_extension": ".py",
   "mimetype": "text/x-python",
   "name": "python",
   "nbconvert_exporter": "python",
   "pygments_lexer": "ipython3",
   "version": "3.9.12"
  }
 },
 "nbformat": 4,
 "nbformat_minor": 5
}
