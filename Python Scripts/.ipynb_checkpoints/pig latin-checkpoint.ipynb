{
 "cells": [
  {
   "cell_type": "code",
   "execution_count": 7,
   "id": "fc475906",
   "metadata": {},
   "outputs": [
    {
     "name": "stdout",
     "output_type": "stream",
     "text": [
      "Please enter a sentence here.: The frog went to the pond\n",
      "ethay ogfray entway otay ethay ondpay\n"
     ]
    }
   ],
   "source": [
    "# get sentence from user\n",
    "Original = input(\"Please enter a sentence here.: \").lower().strip()\n",
    "# split sentence into words\n",
    "Words = Original.split()\n",
    "# loop through words and convert to pig latin\n",
    "New_Words = []\n",
    "# stick words back together\n",
    "for Word in Words:\n",
    "    if Word[0] in \"aeiou\":\n",
    "        New_Word = Word + \"yay\"\n",
    "        New_Words.append(New_Word)\n",
    "    else:\n",
    "        Vowel_Pos = 0\n",
    "        for letter in Word:\n",
    "            if letter not in \"aeiou\":\n",
    "                Vowel_Pos = Vowel_Pos + 1\n",
    "            else:\n",
    "                break\n",
    "        Cons = Word[:Vowel_Pos]\n",
    "        The_Rest = Word[Vowel_Pos:]\n",
    "        New_Word = The_Rest+Cons+\"ay\"\n",
    "        New_Words.append(New_Word)    \n",
    "# output the final string\n",
    "output = \" \".join(New_Words)\n",
    "print(output)"
   ]
  },
  {
   "cell_type": "code",
   "execution_count": null,
   "id": "615ee64d",
   "metadata": {},
   "outputs": [],
   "source": []
  }
 ],
 "metadata": {
  "kernelspec": {
   "display_name": "Python 3",
   "language": "python",
   "name": "python3"
  },
  "language_info": {
   "codemirror_mode": {
    "name": "ipython",
    "version": 3
   },
   "file_extension": ".py",
   "mimetype": "text/x-python",
   "name": "python",
   "nbconvert_exporter": "python",
   "pygments_lexer": "ipython3",
   "version": "3.8.8"
  }
 },
 "nbformat": 4,
 "nbformat_minor": 5
}
