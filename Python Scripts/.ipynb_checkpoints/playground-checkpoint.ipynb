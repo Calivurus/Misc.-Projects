{
 "cells": [
  {
   "cell_type": "code",
   "execution_count": 2,
   "id": "7192be5a",
   "metadata": {},
   "outputs": [],
   "source": [
    "string = \"this is a test\""
   ]
  },
  {
   "cell_type": "code",
   "execution_count": null,
   "id": "d6324a8c",
   "metadata": {},
   "outputs": [],
   "source": [
    "string"
   ]
  },
  {
   "cell_type": "code",
   "execution_count": null,
   "id": "e5282a51",
   "metadata": {},
   "outputs": [],
   "source": [
    "string[1:5]"
   ]
  },
  {
   "cell_type": "code",
   "execution_count": null,
   "id": "3d41b2ff",
   "metadata": {},
   "outputs": [],
   "source": [
    "x = \"it's cold, outside~\""
   ]
  },
  {
   "cell_type": "code",
   "execution_count": null,
   "id": "8c1d25d0",
   "metadata": {},
   "outputs": [],
   "source": [
    "sarah = \"Baby, \""
   ]
  },
  {
   "cell_type": "code",
   "execution_count": null,
   "id": "0afc3765",
   "metadata": {},
   "outputs": [],
   "source": [
    "sarah + x"
   ]
  },
  {
   "cell_type": "code",
   "execution_count": null,
   "id": "9bc3ca5b",
   "metadata": {},
   "outputs": [],
   "source": [
    "st = 'Print only the words that start with s in this sentence'"
   ]
  },
  {
   "cell_type": "code",
   "execution_count": null,
   "id": "f04e2d6e",
   "metadata": {},
   "outputs": [],
   "source": [
    "for words in st.split:\n",
    "    if words[0]:"
   ]
  },
  {
   "cell_type": "code",
   "execution_count": null,
   "id": "3471b017",
   "metadata": {},
   "outputs": [],
   "source": [
    "st.split()"
   ]
  },
  {
   "cell_type": "code",
   "execution_count": null,
   "id": "f578d2f8",
   "metadata": {},
   "outputs": [],
   "source": [
    "print(f\"Hello my name is {sarah} and that is {d}\".format(d = \"danny\"))"
   ]
  },
  {
   "cell_type": "code",
   "execution_count": null,
   "id": "936d6cf1",
   "metadata": {},
   "outputs": [],
   "source": [
    "sarah = \"Baby, \""
   ]
  },
  {
   "cell_type": "code",
   "execution_count": null,
   "id": "e34a1678",
   "metadata": {},
   "outputs": [],
   "source": [
    "print(f\"Hello my name is {sarah} and that is {d}\".format(d = \"danny\"))"
   ]
  },
  {
   "cell_type": "code",
   "execution_count": null,
   "id": "838b953c",
   "metadata": {},
   "outputs": [],
   "source": [
    "def monkey_trouble(a_smile, b_smile):\n",
    "  if a_smile and b_smile:\n",
    "    return True\n",
    "  if not a_smile and not b_smile:\n",
    "    return True\n",
    "  return False"
   ]
  },
  {
   "cell_type": "code",
   "execution_count": null,
   "id": "dffbc42b",
   "metadata": {},
   "outputs": [],
   "source": [
    "def sum_double(a, b):\n",
    "    if a != b:\n",
    "        return int(a+b)\n",
    "    else:\n",
    "        return int(a*2)\n"
   ]
  },
  {
   "cell_type": "markdown",
   "id": "60a1c691",
   "metadata": {},
   "source": [
    "\n",
    "Given an int n, return the absolute difference between n and 21, except return double the absolute difference if n is over 21.\n"
   ]
  },
  {
   "cell_type": "code",
   "execution_count": 12,
   "id": "f38233f6",
   "metadata": {},
   "outputs": [],
   "source": [
    "def diff21(n):\n",
    "    if n <= 21:\n",
    "        return 21-n\n",
    "    elif n >= 21:\n",
    "        return sum*2"
   ]
  },
  {
   "cell_type": "markdown",
   "id": "ca0bed30",
   "metadata": {},
   "source": [
    "We have a loud talking parrot. The \"hour\" parameter is the current hour time in the range 0..23. We are in trouble if the parrot is talking and the hour is before 7 or after 20. Return True if we are in trouble."
   ]
  },
  {
   "cell_type": "code",
   "execution_count": 2,
   "id": "949bf614",
   "metadata": {},
   "outputs": [],
   "source": [
    "def parrot_trouble(talking, hour):\n",
    "    return (talking and (hour < 7 or hour > 20))"
   ]
  },
  {
   "cell_type": "code",
   "execution_count": 5,
   "id": "e205281f",
   "metadata": {},
   "outputs": [
    {
     "ename": "NameError",
     "evalue": "name 'talking' is not defined",
     "output_type": "error",
     "traceback": [
      "\u001b[1;31m---------------------------------------------------------------------------\u001b[0m",
      "\u001b[1;31mNameError\u001b[0m                                 Traceback (most recent call last)",
      "\u001b[1;32m<ipython-input-5-34c7199d8a39>\u001b[0m in \u001b[0;36m<module>\u001b[1;34m\u001b[0m\n\u001b[1;32m----> 1\u001b[1;33m \u001b[0mparrot_trouble\u001b[0m\u001b[1;33m(\u001b[0m\u001b[0mtalking\u001b[0m\u001b[1;33m,\u001b[0m \u001b[1;36m15\u001b[0m\u001b[1;33m)\u001b[0m\u001b[1;33m\u001b[0m\u001b[1;33m\u001b[0m\u001b[0m\n\u001b[0m",
      "\u001b[1;31mNameError\u001b[0m: name 'talking' is not defined"
     ]
    }
   ],
   "source": [
    "parrot_trouble(talking, 15)"
   ]
  },
  {
   "cell_type": "code",
   "execution_count": 11,
   "id": "0670eaf4",
   "metadata": {},
   "outputs": [],
   "source": [
    "def makes10(a, b):\n",
    "    if a+b==10:\n",
    "        return True\n",
    "    elif a==10 or b==10:\n",
    "        return True\n",
    "    else: \n",
    "        return False"
   ]
  },
  {
   "cell_type": "markdown",
   "id": "5da37bec",
   "metadata": {},
   "source": [
    "\n",
    "Given an int n, return True if it is within 10 of 100 or 200. Note: abs(num) computes the absolute value of a number."
   ]
  },
  {
   "cell_type": "code",
   "execution_count": 1,
   "id": "3ab87757",
   "metadata": {},
   "outputs": [],
   "source": [
    "def near_hundred(n):\n",
    "    return abs(100-n)<=10 or abs(200-n)<=10"
   ]
  },
  {
   "cell_type": "markdown",
   "id": "48e29ff6",
   "metadata": {},
   "source": [
    "Given 2 int values, return True if one is negative and one is positive. Except if the parameter \"negative\" is True, then return True only if both are negative."
   ]
  },
  {
   "cell_type": "code",
   "execution_count": 5,
   "id": "22c008d5",
   "metadata": {},
   "outputs": [],
   "source": [
    "def pos_neg(a, b, negative):\n",
    "    if negative:\n",
    "        return a<0 and b<0\n",
    "    else:\n",
    "        return (a<0 and b>0) or (a>0 and b<0)\n",
    "pass"
   ]
  },
  {
   "cell_type": "markdown",
   "id": "0f8bfeba",
   "metadata": {},
   "source": [
    "\n",
    "Given a string, return a new string where \"not \" has been added to the front. However, if the string already begins with \"not\", return the string unchanged."
   ]
  },
  {
   "cell_type": "code",
   "execution_count": 39,
   "id": "f981fa4b",
   "metadata": {},
   "outputs": [],
   "source": [
    "def not_string(str):\n",
    "    if (\"not\") in str:\n",
    "        return str\n",
    "    else:\n",
    "        return \"not \"+str"
   ]
  },
  {
   "cell_type": "code",
   "execution_count": 40,
   "id": "9e29e850",
   "metadata": {},
   "outputs": [],
   "source": [
    "def not_string(str):\n",
    "      if len(str) >= 3 and str[:3] == \"not\":\n",
    "        return str\n",
    "      return \"not \" + str"
   ]
  },
  {
   "cell_type": "code",
   "execution_count": 41,
   "id": "199ef8d4",
   "metadata": {},
   "outputs": [
    {
     "data": {
      "text/plain": [
       "'not candy'"
      ]
     },
     "execution_count": 41,
     "metadata": {},
     "output_type": "execute_result"
    }
   ],
   "source": [
    "not_string(\"candy\")"
   ]
  },
  {
   "cell_type": "markdown",
   "id": "f4f383ce",
   "metadata": {},
   "source": [
    "Given a non-empty string and an int n, return a new string where the char at index n has been removed. The value of n will be a valid index of a char in the original string (i.e. n will be in the range 0..len(str)-1 inclusive).\n",
    "\n",
    "\n",
    "missing_char('kitten', 1) → 'ktten'                                                          \n",
    "missing_char('kitten', 0) → 'itten'                                                          \n",
    "missing_char('kitten', 4) → 'kittn'"
   ]
  },
  {
   "cell_type": "code",
   "execution_count": 51,
   "id": "7190df04",
   "metadata": {},
   "outputs": [],
   "source": [
    "def missing_char(str, n):\n",
    "    part_one= str[0:int(n)]\n",
    "    part_two= str[int(n)+1::]\n",
    "    return part_one+part_two\n",
    "pass"
   ]
  },
  {
   "cell_type": "code",
   "execution_count": 52,
   "id": "b81c3327",
   "metadata": {},
   "outputs": [
    {
     "data": {
      "text/plain": [
       "'itten'"
      ]
     },
     "execution_count": 52,
     "metadata": {},
     "output_type": "execute_result"
    }
   ],
   "source": [
    "missing_char(\"kitten\", 0)"
   ]
  },
  {
   "cell_type": "markdown",
   "id": "d9437334",
   "metadata": {},
   "source": [
    "\n",
    "Given a string, return a new string where the first and last chars have been exchanged."
   ]
  },
  {
   "cell_type": "code",
   "execution_count": 62,
   "id": "7763f841",
   "metadata": {},
   "outputs": [],
   "source": [
    "def front_back(str):\n",
    "    first_letter=str[0]\n",
    "    last_letter=str[-1]\n",
    "    main_body=str[1:-1]\n",
    "    return last_letter+main_body+first_letter"
   ]
  },
  {
   "cell_type": "code",
   "execution_count": 64,
   "id": "f0014c98",
   "metadata": {},
   "outputs": [
    {
     "data": {
      "text/plain": [
       "'dupercalifragilisticexpialidociouss'"
      ]
     },
     "execution_count": 64,
     "metadata": {},
     "output_type": "execute_result"
    }
   ],
   "source": [
    "front_back(\"supercalifragilisticexpialidociousd\")"
   ]
  },
  {
   "cell_type": "code",
   "execution_count": 74,
   "id": "44eee6aa",
   "metadata": {},
   "outputs": [],
   "source": [
    "def front_back(str):\n",
    "    if len(str) <= 1:\n",
    "        return str\n",
    "        mid = str[1:len(str)-1]\n",
    "        return str[len(str)-1] + mid + str[0]\n",
    "        print(str)"
   ]
  },
  {
   "cell_type": "code",
   "execution_count": 75,
   "id": "3a450c3c",
   "metadata": {},
   "outputs": [],
   "source": [
    "front_back(\"supercalifragilisticexpialidociousd\")"
   ]
  },
  {
   "cell_type": "markdown",
   "id": "bb1c1134",
   "metadata": {},
   "source": [
    "\n",
    "Given a string, we'll say that the front is the first 3 chars of the string. If the string length is less than 3, the front is whatever is there. Return a new string which is 3 copies of the front.\n",
    "\n",
    "\n",
    "front3('Java') → 'JavJavJav'\n",
    "\n",
    "front3('Chocolate') → 'ChoChoCho'\n",
    "\n",
    "front3('abc') → 'abcabcabc'\n",
    "\n"
   ]
  },
  {
   "cell_type": "markdown",
   "id": "220c763b",
   "metadata": {},
   "source": [
    "def front3(str):\n",
    "    return str[0:3]*3"
   ]
  },
  {
   "cell_type": "code",
   "execution_count": 79,
   "id": "75add495",
   "metadata": {},
   "outputs": [
    {
     "data": {
      "text/plain": [
       "'sususu'"
      ]
     },
     "execution_count": 79,
     "metadata": {},
     "output_type": "execute_result"
    }
   ],
   "source": [
    "front3(\"su\")"
   ]
  },
  {
   "cell_type": "markdown",
   "id": "4843d1ee",
   "metadata": {},
   "source": [
    "Given a string and a non-negative int n, return a larger string that is n copies of the original string.\n",
    "\n",
    "\n",
    "string_times('Hi', 2) → 'HiHi'\n",
    "\n",
    "string_times('Hi', 3) → 'HiHiHi'\n",
    "\n",
    "string_times('Hi', 1) → 'Hi'"
   ]
  },
  {
   "cell_type": "code",
   "execution_count": 80,
   "id": "a17c411b",
   "metadata": {},
   "outputs": [],
   "source": [
    "def string_times(str, n):\n",
    "    return str*int(n)"
   ]
  },
  {
   "cell_type": "code",
   "execution_count": 82,
   "id": "793ea302",
   "metadata": {},
   "outputs": [
    {
     "data": {
      "text/plain": [
       "''"
      ]
     },
     "execution_count": 82,
     "metadata": {},
     "output_type": "execute_result"
    }
   ],
   "source": [
    "string_times(\"supercalifragilisticexpialidociousd\", -2)"
   ]
  },
  {
   "cell_type": "markdown",
   "id": "66e0ddee",
   "metadata": {},
   "source": [
    "Given a string and a non-negative int n, we'll say that the front of the string is the first 3 chars, or whatever is there if the string is less than length 3. Return n copies of the front;\n",
    "\n",
    "\n",
    "front_times('Chocolate', 2) → 'ChoCho'\n",
    "\n",
    "front_times('Chocolate', 3) → 'ChoChoCho'\n",
    "\n",
    "front_times('Abc', 3) → 'AbcAbcAbc'"
   ]
  },
  {
   "cell_type": "code",
   "execution_count": 101,
   "id": "5cb91fc9",
   "metadata": {},
   "outputs": [],
   "source": [
    "def front_times(str, n):\n",
    "    return str[0:3]*int(n)"
   ]
  },
  {
   "cell_type": "code",
   "execution_count": 102,
   "id": "021aa9d5",
   "metadata": {},
   "outputs": [
    {
     "data": {
      "text/plain": [
       "'supsupsupsupsup'"
      ]
     },
     "execution_count": 102,
     "metadata": {},
     "output_type": "execute_result"
    }
   ],
   "source": [
    "front_times(\"supercalifragilisticexpialidociousd\", 5)"
   ]
  },
  {
   "cell_type": "markdown",
   "id": "a5b81a20",
   "metadata": {},
   "source": [
    "Given a string, return a new string made of every other char starting with the first, so \"Hello\" yields \"Hlo\".\n",
    "\n",
    "\n",
    "string_bits('Hello') → 'Hlo'\n",
    "\n",
    "string_bits('Hi') → 'H'\n",
    "\n",
    "string_bits('Heeololeo') → 'Hello'"
   ]
  },
  {
   "cell_type": "code",
   "execution_count": 105,
   "id": "bcd3320a",
   "metadata": {},
   "outputs": [],
   "source": [
    "def string_bits(str):\n",
    "    return str[::2]"
   ]
  },
  {
   "cell_type": "code",
   "execution_count": 107,
   "id": "fcf382a8",
   "metadata": {},
   "outputs": [
    {
     "data": {
      "text/plain": [
       "'Hlo'"
      ]
     },
     "execution_count": 107,
     "metadata": {},
     "output_type": "execute_result"
    }
   ],
   "source": [
    "string_bits(\"Hello\")"
   ]
  },
  {
   "cell_type": "markdown",
   "id": "8d0f5571",
   "metadata": {},
   "source": [
    "\n",
    "Given a non-empty string like \"Code\" return a string like \"CCoCodCode\".\n",
    "\n",
    "\n",
    "string_splosion('Code') → 'CCoCodCode'\n",
    "\n",
    "string_splosion('abc') → 'aababc'\n",
    "\n",
    "string_splosion('ab') → 'aab'"
   ]
  },
  {
   "cell_type": "code",
   "execution_count": 125,
   "id": "180168aa",
   "metadata": {},
   "outputs": [],
   "source": [
    "def string_splosion(str):\n",
    "    result = \"\"\n",
    "    for i in range(len(str)):\n",
    "        result = result + str[:i+1]\n",
    "    return result"
   ]
  },
  {
   "cell_type": "code",
   "execution_count": 126,
   "id": "06429d91",
   "metadata": {},
   "outputs": [
    {
     "data": {
      "text/plain": [
       "'HHeHelHellHello'"
      ]
     },
     "execution_count": 126,
     "metadata": {},
     "output_type": "execute_result"
    }
   ],
   "source": [
    "string_splosion('Hello')"
   ]
  },
  {
   "cell_type": "markdown",
   "id": "fa862d34",
   "metadata": {},
   "source": [
    "\n",
    "Given a string, return the count of the number of times that a substring length 2 appears in the string and also as the last 2 chars of the string, so \"hixxxhi\" yields 1 (we won't count the end substring).\n",
    "\n",
    "\n",
    "last2('hixxhi') → 1\n",
    "\n",
    "last2('xaxxaxaxx') → 1\n",
    "\n",
    "last2('axxxaaxx') → 2"
   ]
  },
  {
   "cell_type": "code",
   "execution_count": 27,
   "id": "3aff11ef",
   "metadata": {},
   "outputs": [],
   "source": [
    "def last2(str):\n",
    "    if len(str) < 2:\n",
    "        pass\n",
    "    last2 = str[len(str)-2:]\n",
    "    count=0\n",
    "    \n",
    "    for i in range(len(str)-2):\n",
    "        sub = str[i:i+2]\n",
    "        if sub == last2:\n",
    "            count = count +1\n",
    "    return count"
   ]
  },
  {
   "cell_type": "code",
   "execution_count": 26,
   "id": "65b9210d",
   "metadata": {},
   "outputs": [
    {
     "data": {
      "text/plain": [
       "2"
      ]
     },
     "execution_count": 26,
     "metadata": {},
     "output_type": "execute_result"
    }
   ],
   "source": [
    "last2('axxxaaxx')"
   ]
  },
  {
   "cell_type": "markdown",
   "id": "834b68ac",
   "metadata": {},
   "source": [
    "\n",
    "Given an array of ints, return the number of 9's in the array.\n",
    "\n",
    "\n",
    "array_count9([1, 2, 9]) → 1\n",
    "\n",
    "array_count9([1, 9, 9]) → 2\n",
    "\n",
    "array_count9([1, 9, 9, 3, 9]) → 3"
   ]
  },
  {
   "cell_type": "code",
   "execution_count": 16,
   "id": "0c938f3a",
   "metadata": {},
   "outputs": [],
   "source": [
    "def array_count9(nums):\n",
    "    count=0\n",
    "    for num in nums:\n",
    "        if num==9:\n",
    "            count = count+1\n",
    "    return count"
   ]
  },
  {
   "cell_type": "code",
   "execution_count": 17,
   "id": "e8dc0849",
   "metadata": {},
   "outputs": [
    {
     "data": {
      "text/plain": [
       "3"
      ]
     },
     "execution_count": 17,
     "metadata": {},
     "output_type": "execute_result"
    }
   ],
   "source": [
    "array_count9([1,9,9,3,9])"
   ]
  },
  {
   "cell_type": "markdown",
   "id": "48baa17d",
   "metadata": {},
   "source": [
    "\n",
    "Given an array of ints, return True if one of the first 4 elements in the array is a 9. The array length may be less than 4.\n",
    "\n",
    "\n",
    "array_front9([1, 2, 9, 3, 4]) → True\n",
    "\n",
    "array_front9([1, 2, 3, 4, 9]) → False\n",
    "\n",
    "array_front9([1, 2, 3, 4, 5]) → False"
   ]
  },
  {
   "cell_type": "code",
   "execution_count": 38,
   "id": "38250619",
   "metadata": {},
   "outputs": [],
   "source": [
    "def array_front9(nums):\n",
    "    end=len(nums)\n",
    "    if end>4:\n",
    "        end = 4\n",
    "    for x in range(end):\n",
    "        if nums[x]==9:\n",
    "            return True\n",
    "    return False"
   ]
  },
  {
   "cell_type": "code",
   "execution_count": 39,
   "id": "500d6e82",
   "metadata": {},
   "outputs": [
    {
     "data": {
      "text/plain": [
       "False"
      ]
     },
     "execution_count": 39,
     "metadata": {},
     "output_type": "execute_result"
    }
   ],
   "source": [
    "array_front9([1,2,3,4])"
   ]
  },
  {
   "cell_type": "markdown",
   "id": "4c4244c3",
   "metadata": {},
   "source": [
    "Given an array of ints, return True if the sequence of numbers 1, 2, 3 appears in the array somewhere.\n",
    "\n",
    "\n",
    "array123([1, 1, 2, 3, 1]) → True\n",
    "\n",
    "array123([1, 1, 2, 4, 1]) → False\n",
    "\n",
    "array123([1, 1, 2, 1, 2, 3]) → True"
   ]
  },
  {
   "cell_type": "code",
   "execution_count": null,
   "id": "2008dc57",
   "metadata": {},
   "outputs": [],
   "source": [
    "def array123(nums):\n",
    "    for i in range(len(nums)-2):\n",
    "        if nums[i]==1 and nums[i+1]==2 and nums[i+2]==3:\n",
    "            return True\n",
    "    return False"
   ]
  },
  {
   "cell_type": "code",
   "execution_count": null,
   "id": "fa27a55e",
   "metadata": {},
   "outputs": [],
   "source": [
    "array123([1, 1, 2, 1, 2, 3])"
   ]
  },
  {
   "cell_type": "markdown",
   "id": "e929fa0d",
   "metadata": {},
   "source": [
    "\n",
    "Given 2 strings, a and b, return the number of the positions where they contain the same length 2 substring. So \"xxcaazz\" and \"xxbaaz\" yields 3, since the \"xx\", \"aa\", and \"az\" substrings appear in the same place in both strings.\n",
    "\n",
    "\n",
    "string_match('xxcaazz', 'xxbaaz') → 3\n",
    "\n",
    "string_match('abc', 'abc') → 2\n",
    "\n",
    "string_match('abc', 'axc') → 0"
   ]
  },
  {
   "cell_type": "code",
   "execution_count": null,
   "id": "6e9cd3f8",
   "metadata": {},
   "outputs": [],
   "source": [
    "def string_match(a, b):\n",
    "       "
   ]
  }
 ],
 "metadata": {
  "kernelspec": {
   "display_name": "Python 3",
   "language": "python",
   "name": "python3"
  },
  "language_info": {
   "codemirror_mode": {
    "name": "ipython",
    "version": 3
   },
   "file_extension": ".py",
   "mimetype": "text/x-python",
   "name": "python",
   "nbconvert_exporter": "python",
   "pygments_lexer": "ipython3",
   "version": "3.8.8"
  }
 },
 "nbformat": 4,
 "nbformat_minor": 5
}
