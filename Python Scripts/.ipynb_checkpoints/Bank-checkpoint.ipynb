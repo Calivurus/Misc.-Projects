{
 "cells": [
  {
   "cell_type": "code",
   "execution_count": 9,
   "id": "28260534",
   "metadata": {},
   "outputs": [],
   "source": [
    "class Account:\n",
    "    def __init__(self,name,balance,min_balance):\n",
    "        self.name = name\n",
    "        self.balance = balance\n",
    "        self.min_balance = min_balance\n",
    "    \n",
    "    def Deposit(self, amount):\n",
    "        self.balance += amount\n",
    "    \n",
    "    def Withdraw(self, amount):\n",
    "        if self.balance-amount >= self.min_balance:\n",
    "            self.balance -= amount\n",
    "        else:\n",
    "            print(\"Sorry, not enough funds!\")\n",
    "    \n",
    "    def Statement(self):\n",
    "        Print(\"Account Balance: ${}\".format(self.balance))\n",
    "        \n",
    "class Current(Account):\n",
    "    def __init__(self, name, balance):\n",
    "        super().__init__(name, balance, min_balance= -1000)"
   ]
  },
  {
   "cell_type": "code",
   "execution_count": 10,
   "id": "60a2d6a5",
   "metadata": {},
   "outputs": [],
   "source": [
    "D = Current(\"Danny\", 42069)"
   ]
  },
  {
   "cell_type": "code",
   "execution_count": 14,
   "id": "80840c66",
   "metadata": {},
   "outputs": [
    {
     "ename": "AttributeError",
     "evalue": "'Current' object has no attribute 'statement'",
     "output_type": "error",
     "traceback": [
      "\u001b[1;31m---------------------------------------------------------------------------\u001b[0m",
      "\u001b[1;31mAttributeError\u001b[0m                            Traceback (most recent call last)",
      "\u001b[1;32m<ipython-input-14-a9f57ea0d9e5>\u001b[0m in \u001b[0;36m<module>\u001b[1;34m\u001b[0m\n\u001b[1;32m----> 1\u001b[1;33m \u001b[0mD\u001b[0m\u001b[1;33m.\u001b[0m\u001b[0mstatement\u001b[0m\u001b[1;33m(\u001b[0m\u001b[1;33m)\u001b[0m\u001b[1;33m\u001b[0m\u001b[1;33m\u001b[0m\u001b[0m\n\u001b[0m",
      "\u001b[1;31mAttributeError\u001b[0m: 'Current' object has no attribute 'statement'"
     ]
    }
   ],
   "source": [
    "D.statement()"
   ]
  },
  {
   "cell_type": "code",
   "execution_count": null,
   "id": "0f443101",
   "metadata": {},
   "outputs": [],
   "source": []
  }
 ],
 "metadata": {
  "kernelspec": {
   "display_name": "Python 3",
   "language": "python",
   "name": "python3"
  },
  "language_info": {
   "codemirror_mode": {
    "name": "ipython",
    "version": 3
   },
   "file_extension": ".py",
   "mimetype": "text/x-python",
   "name": "python",
   "nbconvert_exporter": "python",
   "pygments_lexer": "ipython3",
   "version": "3.8.8"
  }
 },
 "nbformat": 4,
 "nbformat_minor": 5
}
