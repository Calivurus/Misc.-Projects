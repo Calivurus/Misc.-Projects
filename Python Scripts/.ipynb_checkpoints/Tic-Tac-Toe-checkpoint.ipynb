{
 "cells": [
  {
   "cell_type": "code",
   "execution_count": 4,
   "id": "f5017996",
   "metadata": {},
   "outputs": [
    {
     "ename": "SyntaxError",
     "evalue": "invalid syntax (<ipython-input-4-aa4117f1407d>, line 32)",
     "output_type": "error",
     "traceback": [
      "\u001b[1;36m  File \u001b[1;32m\"<ipython-input-4-aa4117f1407d>\"\u001b[1;36m, line \u001b[1;32m32\u001b[0m\n\u001b[1;33m    (board[2] == icon and board[5] == icon and board[9] == icon)\u001b[0m\n\u001b[1;37m                                                                     ^\u001b[0m\n\u001b[1;31mSyntaxError\u001b[0m\u001b[1;31m:\u001b[0m invalid syntax\n"
     ]
    }
   ],
   "source": [
    "Board = [\" \" for i in range(9)]\n",
    "\n",
    "def print_board():\n",
    "    row1 = \"|{}|{}|{}|\".format(Board[0],Board[1],Board[2])\n",
    "    row2 = \"|{}|{}|{}|\".format(Board[3],Board[4],Board[5])\n",
    "    row3 = \"|{}|{}|{}|\".format(Board[6],Board[7],Board[8])\n",
    "    \n",
    "    print()\n",
    "    print(row1)\n",
    "    print(row2)\n",
    "    print(row3)\n",
    "    print()\n",
    "\n",
    "def player_move(icon):\n",
    "    if icon == \"X\":\n",
    "        number = 1\n",
    "    elif icon == \"O\":\n",
    "        number = 2\n",
    "    print(\"player {}\".format(number))\n",
    "    choice = int(input(\"Enter your move (1-9): \").strip())\n",
    "    if Board[choice-1]== \" \":\n",
    "        Board[choice-1]= icon\n",
    "    else:\n",
    "        print()\n",
    "        print(\"That space is taken!\")\n",
    "def is_victory(icon):\n",
    "    if (board[0] == icon and board[1] == icon and board[2] == icon) or \\\n",
    "    (board[3] == icon and board[4] == icon and board[5] == icon) or \\\n",
    "    (board[6] == icon and board[7] == icon and board[9] == icon) or \\\n",
    "    (board[0] == icon and board[3] == icon and board[6] == icon) or \\\n",
    "    (board[1] == icon and board[4] == icon and board[7] == icon) or \\\n",
    "    (board[2] == icon and board[5] == icon and board[9] == icon) or \\\n",
    "    (board[0] == icon and board[4] == icon and board[8] == icon) or \\\n",
    "    (board[2] == icon and board[4] == icon and board[6] == icon):\n",
    "        return True\n",
    "    else:\n",
    "        return False\n",
    "    \n",
    "        \n",
    "while True:\n",
    "    print_board()\n",
    "    player_move(\"X\")\n",
    "    print_board()\n",
    "    if is_victory(\"X"
   ]
  },
  {
   "cell_type": "code",
   "execution_count": null,
   "id": "573f43ab",
   "metadata": {},
   "outputs": [],
   "source": [
    "if (board[0] == icon and board[1] == icon and board[2] == icon) or \\\n",
    "       (board[3] == icon and board[4] == icon and board[5] == icon) or \\\n",
    "       (board[6] == icon and board[7] == icon and board[9] == icon) or \\\n",
    "       (board[0] == icon and board[3] == icon and board[6] == icon) or \\\n",
    "       (board[0] == icon and board[4] == icon and board[8] == icon) or \\\n",
    "       (board[2] == icon and board[4] == icon and board[6] == icon) or \\"
   ]
  }
 ],
 "metadata": {
  "kernelspec": {
   "display_name": "Python 3",
   "language": "python",
   "name": "python3"
  },
  "language_info": {
   "codemirror_mode": {
    "name": "ipython",
    "version": 3
   },
   "file_extension": ".py",
   "mimetype": "text/x-python",
   "name": "python",
   "nbconvert_exporter": "python",
   "pygments_lexer": "ipython3",
   "version": "3.8.8"
  }
 },
 "nbformat": 4,
 "nbformat_minor": 5
}
