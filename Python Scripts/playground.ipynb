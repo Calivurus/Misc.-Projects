{
 "cells": [
  {
   "cell_type": "code",
   "execution_count": null,
   "id": "00d42a27",
   "metadata": {},
   "outputs": [],
   "source": [
    "string = \"this is a test\""
   ]
  },
  {
   "cell_type": "code",
   "execution_count": null,
   "id": "d6324a8c",
   "metadata": {},
   "outputs": [],
   "source": [
    "string"
   ]
  },
  {
   "cell_type": "code",
   "execution_count": null,
   "id": "e5282a51",
   "metadata": {},
   "outputs": [],
   "source": [
    "string[1:5]"
   ]
  },
  {
   "cell_type": "code",
   "execution_count": null,
   "id": "3d41b2ff",
   "metadata": {},
   "outputs": [],
   "source": [
    "x = \"it's cold, outside~\""
   ]
  },
  {
   "cell_type": "code",
   "execution_count": null,
   "id": "8c1d25d0",
   "metadata": {},
   "outputs": [],
   "source": [
    "sarah = \"Baby, \""
   ]
  },
  {
   "cell_type": "code",
   "execution_count": null,
   "id": "0afc3765",
   "metadata": {},
   "outputs": [],
   "source": [
    "sarah + x"
   ]
  },
  {
   "cell_type": "code",
   "execution_count": null,
   "id": "9bc3ca5b",
   "metadata": {},
   "outputs": [],
   "source": [
    "st = 'Print only the words that start with s in this sentence'"
   ]
  },
  {
   "cell_type": "code",
   "execution_count": null,
   "id": "f04e2d6e",
   "metadata": {},
   "outputs": [],
   "source": [
    "for words in st.split:\n",
    "    if words[0]:"
   ]
  },
  {
   "cell_type": "code",
   "execution_count": null,
   "id": "3471b017",
   "metadata": {},
   "outputs": [],
   "source": [
    "st.split()"
   ]
  },
  {
   "cell_type": "code",
   "execution_count": null,
   "id": "f578d2f8",
   "metadata": {},
   "outputs": [],
   "source": [
    "print(f\"Hello my name is {sarah} and that is {d}\".format(d = \"danny\"))"
   ]
  },
  {
   "cell_type": "code",
   "execution_count": null,
   "id": "936d6cf1",
   "metadata": {},
   "outputs": [],
   "source": [
    "sarah = \"Baby, \""
   ]
  },
  {
   "cell_type": "code",
   "execution_count": null,
   "id": "e34a1678",
   "metadata": {},
   "outputs": [],
   "source": [
    "print(f\"Hello my name is {sarah} and that is {d}\".format(d = \"danny\"))"
   ]
  },
  {
   "cell_type": "code",
   "execution_count": null,
   "id": "838b953c",
   "metadata": {},
   "outputs": [],
   "source": [
    "def monkey_trouble(a_smile, b_smile):\n",
    "  if a_smile and b_smile:\n",
    "    return True\n",
    "  if not a_smile and not b_smile:\n",
    "    return True\n",
    "  return False"
   ]
  },
  {
   "cell_type": "code",
   "execution_count": null,
   "id": "dffbc42b",
   "metadata": {},
   "outputs": [],
   "source": [
    "def sum_double(a, b):\n",
    "    if a != b:\n",
    "        return int(a+b)\n",
    "    else:\n",
    "        return int(a*2)\n"
   ]
  },
  {
   "cell_type": "markdown",
   "id": "60a1c691",
   "metadata": {},
   "source": [
    "\n",
    "Given an int n, return the absolute difference between n and 21, except return double the absolute difference if n is over 21.\n"
   ]
  },
  {
   "cell_type": "code",
   "execution_count": 12,
   "id": "f38233f6",
   "metadata": {},
   "outputs": [],
   "source": [
    "def diff21(n):\n",
    "    if n <= 21:\n",
    "        return 21-n\n",
    "    elif n >= 21:\n",
    "        return sum*2"
   ]
  },
  {
   "cell_type": "markdown",
   "id": "ca0bed30",
   "metadata": {},
   "source": [
    "We have a loud talking parrot. The \"hour\" parameter is the current hour time in the range 0..23. We are in trouble if the parrot is talking and the hour is before 7 or after 20. Return True if we are in trouble."
   ]
  },
  {
   "cell_type": "code",
   "execution_count": 2,
   "id": "949bf614",
   "metadata": {},
   "outputs": [],
   "source": [
    "def parrot_trouble(talking, hour):\n",
    "    return (talking and (hour < 7 or hour > 20))"
   ]
  },
  {
   "cell_type": "code",
   "execution_count": 5,
   "id": "e205281f",
   "metadata": {},
   "outputs": [
    {
     "ename": "NameError",
     "evalue": "name 'talking' is not defined",
     "output_type": "error",
     "traceback": [
      "\u001b[1;31m---------------------------------------------------------------------------\u001b[0m",
      "\u001b[1;31mNameError\u001b[0m                                 Traceback (most recent call last)",
      "\u001b[1;32m<ipython-input-5-34c7199d8a39>\u001b[0m in \u001b[0;36m<module>\u001b[1;34m\u001b[0m\n\u001b[1;32m----> 1\u001b[1;33m \u001b[0mparrot_trouble\u001b[0m\u001b[1;33m(\u001b[0m\u001b[0mtalking\u001b[0m\u001b[1;33m,\u001b[0m \u001b[1;36m15\u001b[0m\u001b[1;33m)\u001b[0m\u001b[1;33m\u001b[0m\u001b[1;33m\u001b[0m\u001b[0m\n\u001b[0m",
      "\u001b[1;31mNameError\u001b[0m: name 'talking' is not defined"
     ]
    }
   ],
   "source": [
    "parrot_trouble(talking, 15)"
   ]
  },
  {
   "cell_type": "code",
   "execution_count": 11,
   "id": "0670eaf4",
   "metadata": {},
   "outputs": [],
   "source": [
    "def makes10(a, b):\n",
    "    if a+b==10:\n",
    "        return True\n",
    "    elif a==10 or b==10:\n",
    "        return True\n",
    "    else: \n",
    "        return False"
   ]
  },
  {
   "cell_type": "markdown",
   "id": "5da37bec",
   "metadata": {},
   "source": [
    "\n",
    "Given an int n, return True if it is within 10 of 100 or 200. Note: abs(num) computes the absolute value of a number."
   ]
  },
  {
   "cell_type": "code",
   "execution_count": 1,
   "id": "3ab87757",
   "metadata": {},
   "outputs": [],
   "source": [
    "def near_hundred(n):\n",
    "    return abs(100-n)<=10 or abs(200-n)<=10"
   ]
  },
  {
   "cell_type": "markdown",
   "id": "48e29ff6",
   "metadata": {},
   "source": [
    "Given 2 int values, return True if one is negative and one is positive. Except if the parameter \"negative\" is True, then return True only if both are negative."
   ]
  },
  {
   "cell_type": "code",
   "execution_count": 5,
   "id": "22c008d5",
   "metadata": {},
   "outputs": [],
   "source": [
    "def pos_neg(a, b, negative):\n",
    "    if negative:\n",
    "        return a<0 and b<0\n",
    "    else:\n",
    "        return (a<0 and b>0) or (a>0 and b<0)\n",
    "pass"
   ]
  },
  {
   "cell_type": "markdown",
   "id": "0f8bfeba",
   "metadata": {},
   "source": [
    "\n",
    "Given a string, return a new string where \"not \" has been added to the front. However, if the string already begins with \"not\", return the string unchanged."
   ]
  },
  {
   "cell_type": "code",
   "execution_count": 39,
   "id": "f981fa4b",
   "metadata": {},
   "outputs": [],
   "source": [
    "def not_string(str):\n",
    "    if (\"not\") in str:\n",
    "        return str\n",
    "    else:\n",
    "        return \"not \"+str"
   ]
  },
  {
   "cell_type": "code",
   "execution_count": 40,
   "id": "9e29e850",
   "metadata": {},
   "outputs": [],
   "source": [
    "def not_string(str):\n",
    "      if len(str) >= 3 and str[:3] == \"not\":\n",
    "        return str\n",
    "      return \"not \" + str"
   ]
  },
  {
   "cell_type": "code",
   "execution_count": 41,
   "id": "199ef8d4",
   "metadata": {},
   "outputs": [
    {
     "data": {
      "text/plain": [
       "'not candy'"
      ]
     },
     "execution_count": 41,
     "metadata": {},
     "output_type": "execute_result"
    }
   ],
   "source": [
    "not_string(\"candy\")"
   ]
  },
  {
   "cell_type": "markdown",
   "id": "f4f383ce",
   "metadata": {},
   "source": [
    "Given a non-empty string and an int n, return a new string where the char at index n has been removed. The value of n will be a valid index of a char in the original string (i.e. n will be in the range 0..len(str)-1 inclusive).\n",
    "\n",
    "\n",
    "missing_char('kitten', 1) → 'ktten'                                                          \n",
    "missing_char('kitten', 0) → 'itten'                                                          \n",
    "missing_char('kitten', 4) → 'kittn'"
   ]
  },
  {
   "cell_type": "code",
   "execution_count": 51,
   "id": "7190df04",
   "metadata": {},
   "outputs": [],
   "source": [
    "def missing_char(str, n):\n",
    "    part_one= str[0:int(n)]\n",
    "    part_two= str[int(n)+1::]\n",
    "    return part_one+part_two\n",
    "pass"
   ]
  },
  {
   "cell_type": "code",
   "execution_count": 52,
   "id": "b81c3327",
   "metadata": {},
   "outputs": [
    {
     "data": {
      "text/plain": [
       "'itten'"
      ]
     },
     "execution_count": 52,
     "metadata": {},
     "output_type": "execute_result"
    }
   ],
   "source": [
    "missing_char(\"kitten\", 0)"
   ]
  },
  {
   "cell_type": "markdown",
   "id": "d9437334",
   "metadata": {},
   "source": [
    "\n",
    "Given a string, return a new string where the first and last chars have been exchanged."
   ]
  },
  {
   "cell_type": "code",
   "execution_count": 62,
   "id": "7763f841",
   "metadata": {},
   "outputs": [],
   "source": [
    "def front_back(str):\n",
    "    first_letter=str[0]\n",
    "    last_letter=str[-1]\n",
    "    main_body=str[1:-1]\n",
    "    return last_letter+main_body+first_letter"
   ]
  },
  {
   "cell_type": "code",
   "execution_count": 64,
   "id": "f0014c98",
   "metadata": {},
   "outputs": [
    {
     "data": {
      "text/plain": [
       "'dupercalifragilisticexpialidociouss'"
      ]
     },
     "execution_count": 64,
     "metadata": {},
     "output_type": "execute_result"
    }
   ],
   "source": [
    "front_back(\"supercalifragilisticexpialidociousd\")"
   ]
  },
  {
   "cell_type": "code",
   "execution_count": 74,
   "id": "44eee6aa",
   "metadata": {},
   "outputs": [],
   "source": [
    "def front_back(str):\n",
    "    if len(str) <= 1:\n",
    "        return str\n",
    "        mid = str[1:len(str)-1]\n",
    "        return str[len(str)-1] + mid + str[0]\n",
    "        print(str)"
   ]
  },
  {
   "cell_type": "code",
   "execution_count": 75,
   "id": "3a450c3c",
   "metadata": {},
   "outputs": [],
   "source": [
    "front_back(\"supercalifragilisticexpialidociousd\")"
   ]
  },
  {
   "cell_type": "markdown",
   "id": "bb1c1134",
   "metadata": {},
   "source": [
    "\n",
    "Given a string, we'll say that the front is the first 3 chars of the string. If the string length is less than 3, the front is whatever is there. Return a new string which is 3 copies of the front.\n",
    "\n",
    "\n",
    "    front3('Java') → 'JavJavJav'\n",
    "    front3('Chocolate') → 'ChoChoCho'\n",
    "    front3('abc') → 'abcabcabc'"
   ]
  },
  {
   "cell_type": "markdown",
   "id": "220c763b",
   "metadata": {},
   "source": [
    "def front3(str):\n",
    "    return str[0:3]*3"
   ]
  },
  {
   "cell_type": "code",
   "execution_count": 79,
   "id": "75add495",
   "metadata": {},
   "outputs": [
    {
     "data": {
      "text/plain": [
       "'sususu'"
      ]
     },
     "execution_count": 79,
     "metadata": {},
     "output_type": "execute_result"
    }
   ],
   "source": [
    "front3(\"su\")"
   ]
  },
  {
   "cell_type": "markdown",
   "id": "4843d1ee",
   "metadata": {},
   "source": [
    "Given a string and a non-negative int n, return a larger string that is n copies of the original string.\n",
    "\n",
    "\n",
    "string_times('Hi', 2) → 'HiHi'\n",
    "\n",
    "string_times('Hi', 3) → 'HiHiHi'\n",
    "\n",
    "string_times('Hi', 1) → 'Hi'"
   ]
  },
  {
   "cell_type": "code",
   "execution_count": 80,
   "id": "a17c411b",
   "metadata": {},
   "outputs": [],
   "source": [
    "def string_times(str, n):\n",
    "    return str*int(n)"
   ]
  },
  {
   "cell_type": "code",
   "execution_count": 82,
   "id": "793ea302",
   "metadata": {},
   "outputs": [
    {
     "data": {
      "text/plain": [
       "''"
      ]
     },
     "execution_count": 82,
     "metadata": {},
     "output_type": "execute_result"
    }
   ],
   "source": [
    "string_times(\"supercalifragilisticexpialidociousd\", -2)"
   ]
  },
  {
   "cell_type": "markdown",
   "id": "66e0ddee",
   "metadata": {},
   "source": [
    "Given a string and a non-negative int n, we'll say that the front of the string is the first 3 chars, or whatever is there if the string is less than length 3. Return n copies of the front;\n",
    "\n",
    "\n",
    "front_times('Chocolate', 2) → 'ChoCho'\n",
    "\n",
    "front_times('Chocolate', 3) → 'ChoChoCho'\n",
    "\n",
    "front_times('Abc', 3) → 'AbcAbcAbc'"
   ]
  },
  {
   "cell_type": "code",
   "execution_count": 101,
   "id": "5cb91fc9",
   "metadata": {},
   "outputs": [],
   "source": [
    "def front_times(str, n):\n",
    "    return str[0:3]*int(n)"
   ]
  },
  {
   "cell_type": "code",
   "execution_count": 102,
   "id": "021aa9d5",
   "metadata": {},
   "outputs": [
    {
     "data": {
      "text/plain": [
       "'supsupsupsupsup'"
      ]
     },
     "execution_count": 102,
     "metadata": {},
     "output_type": "execute_result"
    }
   ],
   "source": [
    "front_times(\"supercalifragilisticexpialidociousd\", 5)"
   ]
  },
  {
   "cell_type": "markdown",
   "id": "a5b81a20",
   "metadata": {},
   "source": [
    "Given a string, return a new string made of every other char starting with the first, so \"Hello\" yields \"Hlo\".\n",
    "\n",
    "\n",
    "string_bits('Hello') → 'Hlo'\n",
    "\n",
    "string_bits('Hi') → 'H'\n",
    "\n",
    "string_bits('Heeololeo') → 'Hello'"
   ]
  },
  {
   "cell_type": "code",
   "execution_count": 105,
   "id": "bcd3320a",
   "metadata": {},
   "outputs": [],
   "source": [
    "def string_bits(str):\n",
    "    return str[::2]"
   ]
  },
  {
   "cell_type": "code",
   "execution_count": 107,
   "id": "fcf382a8",
   "metadata": {},
   "outputs": [
    {
     "data": {
      "text/plain": [
       "'Hlo'"
      ]
     },
     "execution_count": 107,
     "metadata": {},
     "output_type": "execute_result"
    }
   ],
   "source": [
    "string_bits(\"Hello\")"
   ]
  },
  {
   "cell_type": "markdown",
   "id": "8d0f5571",
   "metadata": {},
   "source": [
    "\n",
    "Given a non-empty string like \"Code\" return a string like \"CCoCodCode\".\n",
    "\n",
    "\n",
    "string_splosion('Code') → 'CCoCodCode'\n",
    "\n",
    "string_splosion('abc') → 'aababc'\n",
    "\n",
    "string_splosion('ab') → 'aab'"
   ]
  },
  {
   "cell_type": "code",
   "execution_count": 125,
   "id": "180168aa",
   "metadata": {},
   "outputs": [],
   "source": [
    "def string_splosion(str):\n",
    "    result = \"\"\n",
    "    for i in range(len(str)):\n",
    "        result = result + str[:i+1]\n",
    "    return result"
   ]
  },
  {
   "cell_type": "code",
   "execution_count": 126,
   "id": "06429d91",
   "metadata": {},
   "outputs": [
    {
     "data": {
      "text/plain": [
       "'HHeHelHellHello'"
      ]
     },
     "execution_count": 126,
     "metadata": {},
     "output_type": "execute_result"
    }
   ],
   "source": [
    "string_splosion('Hello')"
   ]
  },
  {
   "cell_type": "markdown",
   "id": "fa862d34",
   "metadata": {},
   "source": [
    "\n",
    "Given a string, return the count of the number of times that a substring length 2 appears in the string and also as the last 2 chars of the string, so \"hixxxhi\" yields 1 (we won't count the end substring).\n",
    "\n",
    "\n",
    "last2('hixxhi') → 1\n",
    "\n",
    "last2('xaxxaxaxx') → 1\n",
    "\n",
    "last2('axxxaaxx') → 2"
   ]
  },
  {
   "cell_type": "code",
   "execution_count": 27,
   "id": "3aff11ef",
   "metadata": {},
   "outputs": [],
   "source": [
    "def last2(str):\n",
    "    if len(str) < 2:\n",
    "        pass\n",
    "    last2 = str[len(str)-2:]\n",
    "    count=0\n",
    "    \n",
    "    for i in range(len(str)-2):\n",
    "        sub = str[i:i+2]\n",
    "        if sub == last2:\n",
    "            count = count +1\n",
    "    return count"
   ]
  },
  {
   "cell_type": "code",
   "execution_count": 26,
   "id": "65b9210d",
   "metadata": {},
   "outputs": [
    {
     "data": {
      "text/plain": [
       "2"
      ]
     },
     "execution_count": 26,
     "metadata": {},
     "output_type": "execute_result"
    }
   ],
   "source": [
    "last2('axxxaaxx')"
   ]
  },
  {
   "cell_type": "markdown",
   "id": "834b68ac",
   "metadata": {},
   "source": [
    "\n",
    "Given an array of ints, return the number of 9's in the array.\n",
    "\n",
    "    array_count9([1, 2, 9]) → 1\n",
    "    array_count9([1, 9, 9]) → 2\n",
    "    array_count9([1, 9, 9, 3, 9]) → 3"
   ]
  },
  {
   "cell_type": "code",
   "execution_count": 16,
   "id": "0c938f3a",
   "metadata": {},
   "outputs": [],
   "source": [
    "def array_count9(nums):\n",
    "    count=0\n",
    "    for num in nums:\n",
    "        if num==9:\n",
    "            count = count+1\n",
    "    return count"
   ]
  },
  {
   "cell_type": "code",
   "execution_count": 17,
   "id": "e8dc0849",
   "metadata": {},
   "outputs": [
    {
     "data": {
      "text/plain": [
       "3"
      ]
     },
     "execution_count": 17,
     "metadata": {},
     "output_type": "execute_result"
    }
   ],
   "source": [
    "array_count9([1,9,9,3,9])"
   ]
  },
  {
   "cell_type": "markdown",
   "id": "48baa17d",
   "metadata": {},
   "source": [
    "\n",
    "Given an array of ints, return True if one of the first 4 elements in the array is a 9. The array length may be less than 4.\n",
    "\n",
    "\n",
    "    array_front9([1, 2, 9, 3, 4]) → True\n",
    "    array_front9([1, 2, 3, 4, 9]) → False\n",
    "    array_front9([1, 2, 3, 4, 5]) → False"
   ]
  },
  {
   "cell_type": "code",
   "execution_count": 38,
   "id": "38250619",
   "metadata": {},
   "outputs": [],
   "source": [
    "def array_front9(nums):\n",
    "    end=len(nums)\n",
    "    if end>4:\n",
    "        end = 4\n",
    "    for x in range(end):\n",
    "        if nums[x]==9:\n",
    "            return True\n",
    "    return False"
   ]
  },
  {
   "cell_type": "code",
   "execution_count": 39,
   "id": "500d6e82",
   "metadata": {},
   "outputs": [
    {
     "data": {
      "text/plain": [
       "False"
      ]
     },
     "execution_count": 39,
     "metadata": {},
     "output_type": "execute_result"
    }
   ],
   "source": [
    "array_front9([1,2,3,4])"
   ]
  },
  {
   "cell_type": "markdown",
   "id": "4c4244c3",
   "metadata": {},
   "source": [
    "Given an array of ints, return True if the sequence of numbers 1, 2, 3 appears in the array somewhere.\n",
    "\n",
    "    array123([1, 1, 2, 3, 1]) → True\n",
    "    array123([1, 1, 2, 4, 1]) → False\n",
    "    array123([1, 1, 2, 1, 2, 3]) → True"
   ]
  },
  {
   "cell_type": "code",
   "execution_count": null,
   "id": "2008dc57",
   "metadata": {},
   "outputs": [],
   "source": [
    "def array123(nums):\n",
    "    for i in range(len(nums)-2):\n",
    "        if nums[i]==1 and nums[i+1]==2 and nums[i+2]==3:\n",
    "            return True\n",
    "    return False"
   ]
  },
  {
   "cell_type": "code",
   "execution_count": null,
   "id": "fa27a55e",
   "metadata": {},
   "outputs": [],
   "source": [
    "array123([1, 1, 2, 1, 2, 3])"
   ]
  },
  {
   "cell_type": "markdown",
   "id": "e929fa0d",
   "metadata": {},
   "source": [
    "\n",
    "Given 2 strings, a and b, return the number of the positions where they contain the same length 2 substring. So \"xxcaazz\" and \"xxbaaz\" yields 3, since the \"xx\", \"aa\", and \"az\" substrings appear in the same place in both strings.\n",
    "\n",
    "\n",
    "string_match('xxcaazz', 'xxbaaz') → 3\n",
    "\n",
    "string_match('abc', 'abc') → 2\n",
    "\n",
    "string_match('abc', 'axc') → 0"
   ]
  },
  {
   "cell_type": "code",
   "execution_count": 7,
   "id": "6e9cd3f8",
   "metadata": {},
   "outputs": [],
   "source": [
    "def string_match(a, b):\n",
    "    count=0\n",
    "    shorter = min(len(a), len(b))\n",
    "    for i in range(shorter-1):\n",
    "        a_sub = a[i:i+2]\n",
    "        b_sub = b[i:i+2]\n",
    "        if a_sub == b_sub:\n",
    "            count = count + 1\n",
    "    return count"
   ]
  },
  {
   "cell_type": "code",
   "execution_count": 8,
   "id": "3cf301fe",
   "metadata": {},
   "outputs": [
    {
     "data": {
      "text/plain": [
       "3"
      ]
     },
     "execution_count": 8,
     "metadata": {},
     "output_type": "execute_result"
    }
   ],
   "source": [
    "string_match('xxcaazz', 'xxbaaz')"
   ]
  },
  {
   "cell_type": "markdown",
   "id": "1685950b",
   "metadata": {},
   "source": [
    "Given a string name, e.g. \"Bob\", return a greeting of the form \"Hello Bob!\".\n",
    "\n",
    "\n",
    "    hello_name('Bob') → 'Hello Bob!'\n",
    "    hello_name('Alice') → 'Hello Alice!'\n",
    "    hello_name('X') → 'Hello X!'"
   ]
  },
  {
   "cell_type": "code",
   "execution_count": 32,
   "id": "05a57849",
   "metadata": {},
   "outputs": [],
   "source": [
    "def hello_name(name):\n",
    "    return 'Hello '+(name)+'!'"
   ]
  },
  {
   "cell_type": "code",
   "execution_count": 33,
   "id": "59e3a9d1",
   "metadata": {},
   "outputs": [
    {
     "data": {
      "text/plain": [
       "'Hello Bob!'"
      ]
     },
     "execution_count": 33,
     "metadata": {},
     "output_type": "execute_result"
    }
   ],
   "source": [
    "hello_name('Bob')"
   ]
  },
  {
   "cell_type": "markdown",
   "id": "6e4d2c38",
   "metadata": {},
   "source": [
    "Given two strings, a and b, return the result of putting them together in the order abba, e.g. \"Hi\" and \"Bye\" returns \"HiByeByeHi\".\n",
    "\n",
    "\n",
    "    make_abba('Hi', 'Bye') → 'HiByeByeHi'\n",
    "    make_abba('Yo', 'Alice') → 'YoAliceAliceYo'\n",
    "    make_abba('What', 'Up') → 'WhatUpUpWhat'"
   ]
  },
  {
   "cell_type": "code",
   "execution_count": 30,
   "id": "0d06a1ab",
   "metadata": {},
   "outputs": [],
   "source": [
    "def make_abba(a, b):\n",
    "    return a+b+b+a"
   ]
  },
  {
   "cell_type": "code",
   "execution_count": 31,
   "id": "3c7e0386",
   "metadata": {},
   "outputs": [
    {
     "data": {
      "text/plain": [
       "'HiByeByeHi'"
      ]
     },
     "execution_count": 31,
     "metadata": {},
     "output_type": "execute_result"
    }
   ],
   "source": [
    "make_abba('Hi', 'Bye')"
   ]
  },
  {
   "cell_type": "markdown",
   "id": "ef0d6af0",
   "metadata": {},
   "source": [
    "The web is built with HTML strings like \"<i>Yay</i>\" which draws Yay as italic text. In this example, the \"i\" tag makes <i> and </i> which surround the word \"Yay\". Given tag and word strings, create the HTML string with tags around the word, e.g. \"<i>Yay</i>\".\n",
    "\n",
    "\n",
    "    make_tags('i', 'Yay') → '<i>Yay</i>'\n",
    "    make_tags('i', 'Hello') → '<i>Hello</i>'\n",
    "    make_tags('cite', 'Yay') → '<cite>Yay</cite>'"
   ]
  },
  {
   "cell_type": "code",
   "execution_count": 13,
   "id": "2c57d589",
   "metadata": {},
   "outputs": [],
   "source": [
    "def make_tags(tag, word):\n",
    "    return (f'<{tag}>{word}</{tag}>')"
   ]
  },
  {
   "cell_type": "code",
   "execution_count": 14,
   "id": "bd10c782",
   "metadata": {},
   "outputs": [
    {
     "data": {
      "text/plain": [
       "'<i>apple</i>'"
      ]
     },
     "execution_count": 14,
     "metadata": {},
     "output_type": "execute_result"
    }
   ],
   "source": [
    "make_tags('i', 'apple')"
   ]
  },
  {
   "cell_type": "code",
   "execution_count": 15,
   "id": "812c0f1d",
   "metadata": {},
   "outputs": [],
   "source": [
    "def make_tags(tag, word):\n",
    "    return ('<{}><{}></{}>'.format(tag, word, tag))"
   ]
  },
  {
   "cell_type": "code",
   "execution_count": 16,
   "id": "c58b35a1",
   "metadata": {},
   "outputs": [
    {
     "data": {
      "text/plain": [
       "'<i><Yay></i>'"
      ]
     },
     "execution_count": 16,
     "metadata": {},
     "output_type": "execute_result"
    }
   ],
   "source": [
    "make_tags('i', 'Yay')"
   ]
  },
  {
   "cell_type": "code",
   "execution_count": 17,
   "id": "9e185075",
   "metadata": {},
   "outputs": [
    {
     "data": {
      "text/plain": [
       "'<cite><Yay></cite>'"
      ]
     },
     "execution_count": 17,
     "metadata": {},
     "output_type": "execute_result"
    }
   ],
   "source": [
    "make_tags('cite', 'Yay')"
   ]
  },
  {
   "cell_type": "code",
   "execution_count": 18,
   "id": "c7664e0d",
   "metadata": {},
   "outputs": [
    {
     "data": {
      "text/plain": [
       "'<address><here></address>'"
      ]
     },
     "execution_count": 18,
     "metadata": {},
     "output_type": "execute_result"
    }
   ],
   "source": [
    "make_tags('address', 'here')"
   ]
  },
  {
   "cell_type": "code",
   "execution_count": 19,
   "id": "1e958c1c",
   "metadata": {},
   "outputs": [],
   "source": [
    "def make_tags(tag, word):\n",
    "    return \"<\" + tag + \">\" + word + \"</\" + tag + \">\""
   ]
  },
  {
   "cell_type": "code",
   "execution_count": 20,
   "id": "9829cf21",
   "metadata": {},
   "outputs": [
    {
     "data": {
      "text/plain": [
       "'<address>here</address>'"
      ]
     },
     "execution_count": 20,
     "metadata": {},
     "output_type": "execute_result"
    }
   ],
   "source": [
    "make_tags('address', 'here')"
   ]
  },
  {
   "cell_type": "markdown",
   "id": "2bba9ad8",
   "metadata": {},
   "source": [
    "Given an \"out\" string length 4, such as \"<<>>\", and a word, return a new string where the word is in the middle of the out string, e.g. \"<<word>>\".\n",
    "\n",
    "    make_out_word('<<>>', 'Yay') → '<<Yay>>'\n",
    "    make_out_word('<<>>', 'WooHoo') → '<<WooHoo>>'\n",
    "    make_out_word('[[]]', 'word') → '[[word]]'"
   ]
  },
  {
   "cell_type": "code",
   "execution_count": 38,
   "id": "10e6b5f5",
   "metadata": {},
   "outputs": [],
   "source": [
    "def make_out_word(out, word):\n",
    "    out_splitter = []\n",
    "    step_count = int(len(out)/2)\n",
    "    for index in range(0, len(out), step_count):\n",
    "        out_splitter.append(out[index:index+step_count])\n",
    "    return out_splitter[0]+word+out_splitter[1]"
   ]
  },
  {
   "cell_type": "code",
   "execution_count": 39,
   "id": "cba6727a",
   "metadata": {},
   "outputs": [
    {
     "data": {
      "text/plain": [
       "'<<word>>'"
      ]
     },
     "execution_count": 39,
     "metadata": {},
     "output_type": "execute_result"
    }
   ],
   "source": [
    "#check\n",
    "make_out_word(\"<<>>\", 'word')"
   ]
  },
  {
   "cell_type": "code",
   "execution_count": 42,
   "id": "7d6bfd09",
   "metadata": {},
   "outputs": [],
   "source": [
    "def make_out_word(out, word):\n",
    "    step_count = int(len(out)/2)\n",
    "    out_splitter = [out[index:index+step_count] for index in range(0, len(out), step_count)]\n",
    "    return out_splitter[0]+word+out_splitter[1]"
   ]
  },
  {
   "cell_type": "code",
   "execution_count": 44,
   "id": "a0b351a6",
   "metadata": {},
   "outputs": [
    {
     "data": {
      "text/plain": [
       "'<<<word>>>'"
      ]
     },
     "execution_count": 44,
     "metadata": {},
     "output_type": "execute_result"
    }
   ],
   "source": [
    "#check\n",
    "make_out_word(\"<<<>>>\", 'word')"
   ]
  },
  {
   "cell_type": "markdown",
   "id": "8fe2f30b",
   "metadata": {},
   "source": [
    "\n",
    "Given a string, return a new string made of 3 copies of the last 2 chars of the original string. The string length will be at least 2.\n",
    "\n",
    "\n",
    "    extra_end('Hello') → 'lololo'\n",
    "    extra_end('ab') → 'ababab'\n",
    "    extra_end('Hi') → 'HiHiHi'"
   ]
  },
  {
   "cell_type": "code",
   "execution_count": 32,
   "id": "503a8722",
   "metadata": {},
   "outputs": [],
   "source": [
    "def extra_end(end_str):\n",
    "    if len(end_str)<2:\n",
    "        print('input not long enough for function')\n",
    "    else:\n",
    "        return end_str[-2:]*3"
   ]
  },
  {
   "cell_type": "code",
   "execution_count": 33,
   "id": "4e8ff029",
   "metadata": {},
   "outputs": [
    {
     "data": {
      "text/plain": [
       "'nynyny'"
      ]
     },
     "execution_count": 33,
     "metadata": {},
     "output_type": "execute_result"
    }
   ],
   "source": [
    "extra_end('danny')"
   ]
  },
  {
   "cell_type": "markdown",
   "id": "20d038d7",
   "metadata": {},
   "source": [
    "\n",
    "Given a string, return the string made of its first two chars, so the String \"Hello\" yields \"He\". If the string is shorter than length 2, return whatever there is, so \"X\" yields \"X\", and the empty string \"\" yields the empty string \"\".\n",
    "\n",
    "\n",
    "    first_two('Hello') → 'He'\n",
    "    first_two('abcdefg') → 'ab'\n",
    "    first_two('ab') → 'ab'"
   ]
  },
  {
   "cell_type": "code",
   "execution_count": 39,
   "id": "c076d4be",
   "metadata": {},
   "outputs": [],
   "source": [
    "def first_two(first_str):\n",
    "    if len(first_str)<2:\n",
    "        return first_str\n",
    "    else:\n",
    "        return first_str[0:2]"
   ]
  },
  {
   "cell_type": "code",
   "execution_count": 40,
   "id": "39b70dad",
   "metadata": {},
   "outputs": [
    {
     "data": {
      "text/plain": [
       "'He'"
      ]
     },
     "execution_count": 40,
     "metadata": {},
     "output_type": "execute_result"
    }
   ],
   "source": [
    "first_two('Hello')"
   ]
  },
  {
   "cell_type": "code",
   "execution_count": 41,
   "id": "5f3e9f96",
   "metadata": {},
   "outputs": [
    {
     "data": {
      "text/plain": [
       "'ab'"
      ]
     },
     "execution_count": 41,
     "metadata": {},
     "output_type": "execute_result"
    }
   ],
   "source": [
    "first_two('abcdefg')"
   ]
  },
  {
   "cell_type": "markdown",
   "id": "8e11adf3",
   "metadata": {},
   "source": [
    "\n",
    "Given a string of even length, return the first half. So the string \"WooHoo\" yields \"Woo\".\n",
    "\n",
    "\n",
    "    first_half('WooHoo') → 'Woo'\n",
    "    first_half('HelloThere') → 'Hello'\n",
    "    first_half('abcdef') → 'abc'"
   ]
  },
  {
   "cell_type": "code",
   "execution_count": 6,
   "id": "880695da",
   "metadata": {},
   "outputs": [],
   "source": [
    "def first_half(first_half_str):\n",
    "    fhs=int(len(first_half_str)/2)\n",
    "    return first_half_str[:fhs]"
   ]
  },
  {
   "cell_type": "code",
   "execution_count": 7,
   "id": "0f17dfce",
   "metadata": {},
   "outputs": [
    {
     "data": {
      "text/plain": [
       "'Woo'"
      ]
     },
     "execution_count": 7,
     "metadata": {},
     "output_type": "execute_result"
    }
   ],
   "source": [
    "first_half('WooHoo')"
   ]
  },
  {
   "cell_type": "markdown",
   "id": "045d2042",
   "metadata": {},
   "source": [
    "\n",
    "Given a string, return a version without the first and last char, so \"Hello\" yields \"ell\". The string length will be at least 2.\n",
    "\n",
    "\n",
    "    without_end('Hello') → 'ell'\n",
    "    without_end('java') → 'av'\n",
    "    without_end('coding') → 'odin'"
   ]
  },
  {
   "cell_type": "code",
   "execution_count": 12,
   "id": "02c523ad",
   "metadata": {},
   "outputs": [],
   "source": [
    "def without_end(without_end_str):\n",
    "    wes_end=int(len(without_end_str)-1)\n",
    "    return without_end_str[1:wes_end]"
   ]
  },
  {
   "cell_type": "code",
   "execution_count": 13,
   "id": "6d48478f",
   "metadata": {},
   "outputs": [
    {
     "data": {
      "text/plain": [
       "'ell'"
      ]
     },
     "execution_count": 13,
     "metadata": {},
     "output_type": "execute_result"
    }
   ],
   "source": [
    "without_end('Hello')"
   ]
  },
  {
   "cell_type": "markdown",
   "id": "51aa2e48",
   "metadata": {},
   "source": [
    "Given 2 strings, a and b, return a string of the form short+long+short, with the shorter string on the outside and the longer string on the inside. The strings will not be the same length, but they may be empty (length 0).\n",
    "\n",
    "\n",
    "    combo_string('Hello', 'hi') → 'hiHellohi'\n",
    "    combo_string('hi', 'Hello') → 'hiHellohi'\n",
    "    combo_string('aaa', 'b') → 'baaab'"
   ]
  },
  {
   "cell_type": "code",
   "execution_count": 27,
   "id": "59c62457",
   "metadata": {},
   "outputs": [],
   "source": [
    "def combo_string(a, b):\n",
    "    if len(a) > len(b):\n",
    "        a, b = b, a\n",
    "    return (\"{}{}{}\".format(b, a, b))"
   ]
  },
  {
   "cell_type": "code",
   "execution_count": 20,
   "id": "c4aa528a",
   "metadata": {},
   "outputs": [],
   "source": [
    "def combo_string(a, b):\n",
    "    return (f\"{a}{b}{a}\")"
   ]
  },
  {
   "cell_type": "code",
   "execution_count": 28,
   "id": "f8711b2f",
   "metadata": {},
   "outputs": [
    {
     "data": {
      "text/plain": [
       "'HellohiHello'"
      ]
     },
     "execution_count": 28,
     "metadata": {},
     "output_type": "execute_result"
    }
   ],
   "source": [
    "combo_string('Hello', 'hi')"
   ]
  },
  {
   "cell_type": "code",
   "execution_count": 29,
   "id": "f3d202f1",
   "metadata": {},
   "outputs": [
    {
     "data": {
      "text/plain": [
       "'HellohiHello'"
      ]
     },
     "execution_count": 29,
     "metadata": {},
     "output_type": "execute_result"
    }
   ],
   "source": [
    "combo_string('hi', 'Hello')"
   ]
  },
  {
   "cell_type": "code",
   "execution_count": 19,
   "id": "23b8ef05",
   "metadata": {},
   "outputs": [
    {
     "data": {
      "text/plain": [
       "'aaabaaa'"
      ]
     },
     "execution_count": 19,
     "metadata": {},
     "output_type": "execute_result"
    }
   ],
   "source": [
    "combo_string('b','aaa')"
   ]
  },
  {
   "cell_type": "markdown",
   "id": "02c0a428",
   "metadata": {},
   "source": [
    "Given 2 strings, return their concatenation, except omit the first char of each. The strings will be at least length 1.\n",
    "\n",
    "\n",
    "    non_start('Hello', 'There') → 'ellohere'\n",
    "    non_start('java', 'code') → 'avaode'\n",
    "    non_start('shotl', 'java') → 'hotlava'"
   ]
  },
  {
   "cell_type": "code",
   "execution_count": 30,
   "id": "bc831f1f",
   "metadata": {},
   "outputs": [],
   "source": [
    "def non_start(a, b):\n",
    "    return a[1:]+b[1:]"
   ]
  },
  {
   "cell_type": "code",
   "execution_count": 31,
   "id": "99d3a981",
   "metadata": {},
   "outputs": [
    {
     "data": {
      "text/plain": [
       "'ellohere'"
      ]
     },
     "execution_count": 31,
     "metadata": {},
     "output_type": "execute_result"
    }
   ],
   "source": [
    "non_start('Hello', 'There')"
   ]
  },
  {
   "cell_type": "markdown",
   "id": "0654c0c9",
   "metadata": {},
   "source": [
    "Given a string, return a \"rotated left 2\" version where the first 2 chars are moved to the end. The string length will be at least 2.\n",
    "\n",
    "\n",
    "    left2('Hello') → 'lloHe'\n",
    "    left2('java') → 'vaja'\n",
    "    left2('Hi') → 'Hi'"
   ]
  },
  {
   "cell_type": "code",
   "execution_count": 32,
   "id": "8571e7c4",
   "metadata": {},
   "outputs": [],
   "source": [
    "def left2(left2_str):\n",
    "    return left2_str[2:]+left2_str[:2]"
   ]
  },
  {
   "cell_type": "code",
   "execution_count": 33,
   "id": "14a1074e",
   "metadata": {},
   "outputs": [
    {
     "data": {
      "text/plain": [
       "'lloHe'"
      ]
     },
     "execution_count": 33,
     "metadata": {},
     "output_type": "execute_result"
    }
   ],
   "source": [
    "left2('Hello')"
   ]
  },
  {
   "cell_type": "markdown",
   "id": "0abe9d23",
   "metadata": {},
   "source": [
    "Given an array of ints, return True if 6 appears as either the first or last element in the array. The array will be length 1 or more.\n",
    "\n",
    "\n",
    "    first_last6([1, 2, 6]) → True\n",
    "    first_last6([6, 1, 2, 3]) → True\n",
    "    first_last6([13, 6, 1, 2, 3]) → False"
   ]
  },
  {
   "cell_type": "code",
   "execution_count": 38,
   "id": "0f255b77",
   "metadata": {},
   "outputs": [],
   "source": [
    "def first_last6(nums):\n",
    "    if nums[0]==6 or nums[-1]==6:\n",
    "        return True\n",
    "    else:\n",
    "        return False"
   ]
  },
  {
   "cell_type": "code",
   "execution_count": 39,
   "id": "fac90525",
   "metadata": {},
   "outputs": [
    {
     "data": {
      "text/plain": [
       "True"
      ]
     },
     "execution_count": 39,
     "metadata": {},
     "output_type": "execute_result"
    }
   ],
   "source": [
    "first_last6([1, 2, 6])"
   ]
  },
  {
   "cell_type": "code",
   "execution_count": 40,
   "id": "58fd1b88",
   "metadata": {},
   "outputs": [
    {
     "data": {
      "text/plain": [
       "False"
      ]
     },
     "execution_count": 40,
     "metadata": {},
     "output_type": "execute_result"
    }
   ],
   "source": [
    "first_last6([13, 6, 1, 2, 3])"
   ]
  },
  {
   "cell_type": "markdown",
   "id": "48138399",
   "metadata": {},
   "source": [
    "Given an array of ints, return True if the array is length 1 or more, and the first element and the last element are equal.\n",
    "\n",
    "\n",
    "    same_first_last([1, 2, 3]) → False\n",
    "    same_first_last([1, 2, 3, 1]) → True\n",
    "    same_first_last([1, 2, 1]) → True"
   ]
  },
  {
   "cell_type": "code",
   "execution_count": 45,
   "id": "d62ceb40",
   "metadata": {},
   "outputs": [],
   "source": [
    "def same_first_last(nums):\n",
    "     return len(nums) >= 1 and nums[0] == nums[-1]"
   ]
  },
  {
   "cell_type": "code",
   "execution_count": 46,
   "id": "3032f911",
   "metadata": {},
   "outputs": [
    {
     "data": {
      "text/plain": [
       "False"
      ]
     },
     "execution_count": 46,
     "metadata": {},
     "output_type": "execute_result"
    }
   ],
   "source": [
    "same_first_last([1, 2, 3])"
   ]
  },
  {
   "cell_type": "code",
   "execution_count": 47,
   "id": "f0988c57",
   "metadata": {},
   "outputs": [
    {
     "data": {
      "text/plain": [
       "True"
      ]
     },
     "execution_count": 47,
     "metadata": {},
     "output_type": "execute_result"
    }
   ],
   "source": [
    "same_first_last([1, 2, 3, 1])"
   ]
  },
  {
   "cell_type": "markdown",
   "id": "d7709435",
   "metadata": {},
   "source": [
    "Return an int array length 3 containing the first 3 digits of pi, {3, 1, 4}.\n",
    "\n",
    "\n",
    "    make_pi() → [3, 1, 4]"
   ]
  },
  {
   "cell_type": "code",
   "execution_count": 1,
   "id": "2aaffab5",
   "metadata": {},
   "outputs": [],
   "source": [
    "def make_pi():\n",
    "    return [3, 1, 4]"
   ]
  },
  {
   "cell_type": "code",
   "execution_count": 2,
   "id": "643be7dd",
   "metadata": {},
   "outputs": [
    {
     "data": {
      "text/plain": [
       "[3, 1, 4]"
      ]
     },
     "execution_count": 2,
     "metadata": {},
     "output_type": "execute_result"
    }
   ],
   "source": [
    "make_pi()"
   ]
  },
  {
   "cell_type": "markdown",
   "id": "3b94adbe",
   "metadata": {},
   "source": [
    "\n",
    "Given 2 arrays of ints, a and b, return True if they have the same first element or they have the same last element. Both arrays will be length 1 or more.\n",
    "\n",
    "\n",
    "    common_end([1, 2, 3], [7, 3]) → True\n",
    "    common_end([1, 2, 3], [7, 3, 2]) → False\n",
    "    common_end([1, 2, 3], [1, 3]) → True"
   ]
  },
  {
   "cell_type": "code",
   "execution_count": 8,
   "id": "b8c3ba18",
   "metadata": {},
   "outputs": [],
   "source": [
    "def common_end(a, b):\n",
    "    return a[0]==b[0] or a[-1]==b[-1]"
   ]
  },
  {
   "cell_type": "code",
   "execution_count": 9,
   "id": "28420997",
   "metadata": {},
   "outputs": [
    {
     "data": {
      "text/plain": [
       "True"
      ]
     },
     "execution_count": 9,
     "metadata": {},
     "output_type": "execute_result"
    }
   ],
   "source": [
    "common_end([1, 2, 3], [7, 3])"
   ]
  },
  {
   "cell_type": "code",
   "execution_count": 10,
   "id": "fc9c615d",
   "metadata": {},
   "outputs": [
    {
     "data": {
      "text/plain": [
       "False"
      ]
     },
     "execution_count": 10,
     "metadata": {},
     "output_type": "execute_result"
    }
   ],
   "source": [
    "common_end([1, 2, 3], [7, 3, 2])"
   ]
  },
  {
   "cell_type": "markdown",
   "id": "0a34fba4",
   "metadata": {},
   "source": [
    "\n",
    "Given an array of ints length 3, return the sum of all the elements.\n",
    "\n",
    "\n",
    "    sum3([1, 2, 3]) → 6\n",
    "    sum3([5, 11, 2]) → 18\n",
    "    sum3([7, 0, 0]) → 7"
   ]
  },
  {
   "cell_type": "code",
   "execution_count": 54,
   "id": "31f0db8c",
   "metadata": {},
   "outputs": [],
   "source": [
    "def sum3(nums):\n",
    "    return sum(nums)"
   ]
  },
  {
   "cell_type": "code",
   "execution_count": 55,
   "id": "0b4b88fc",
   "metadata": {},
   "outputs": [
    {
     "data": {
      "text/plain": [
       "6"
      ]
     },
     "execution_count": 55,
     "metadata": {},
     "output_type": "execute_result"
    }
   ],
   "source": [
    "sum3([1, 2, 3])"
   ]
  },
  {
   "cell_type": "markdown",
   "id": "7f50238e",
   "metadata": {},
   "source": [
    "Given an array of ints length 3, return an array with the elements \"rotated left\" so {1, 2, 3} yields {2, 3, 1}.\n",
    "\n",
    "    rotate_left3([1, 2, 3]) → [2, 3, 1]\n",
    "    rotate_left3([5, 11, 9]) → [11, 9, 5]\n",
    "    rotate_left3([7, 0, 0]) → [0, 0, 7]"
   ]
  },
  {
   "cell_type": "code",
   "execution_count": 63,
   "id": "fad37b77",
   "metadata": {},
   "outputs": [],
   "source": [
    "def rotate_left3(nums):\n",
    "    return [nums[1],nums[2],nums[0]]"
   ]
  },
  {
   "cell_type": "code",
   "execution_count": 64,
   "id": "454b8c1b",
   "metadata": {},
   "outputs": [
    {
     "data": {
      "text/plain": [
       "[2, 3, 1]"
      ]
     },
     "execution_count": 64,
     "metadata": {},
     "output_type": "execute_result"
    }
   ],
   "source": [
    "rotate_left3([1, 2, 3])"
   ]
  },
  {
   "cell_type": "code",
   "execution_count": 65,
   "id": "3a34a16b",
   "metadata": {},
   "outputs": [
    {
     "data": {
      "text/plain": [
       "[11, 9, 5]"
      ]
     },
     "execution_count": 65,
     "metadata": {},
     "output_type": "execute_result"
    }
   ],
   "source": [
    "rotate_left3([5, 11, 9])"
   ]
  },
  {
   "cell_type": "code",
   "execution_count": 66,
   "id": "01e52c6f",
   "metadata": {},
   "outputs": [
    {
     "data": {
      "text/plain": [
       "[2, 1, 1]"
      ]
     },
     "execution_count": 66,
     "metadata": {},
     "output_type": "execute_result"
    }
   ],
   "source": [
    "rotate_left3([1, 2, 1])"
   ]
  },
  {
   "cell_type": "markdown",
   "id": "e54c4d33",
   "metadata": {},
   "source": [
    "\n",
    "Given an array of ints length 3, return a new array with the elements in reverse order, so {1, 2, 3} becomes {3, 2, 1}.\n",
    "\n",
    "\n",
    "    reverse3([1, 2, 3]) → [3, 2, 1]\n",
    "    reverse3([5, 11, 9]) → [9, 11, 5]\n",
    "    reverse3([7, 0, 0]) → [0, 0, 7]"
   ]
  },
  {
   "cell_type": "code",
   "execution_count": 69,
   "id": "966cce4e",
   "metadata": {},
   "outputs": [],
   "source": [
    "def reverse3(nums):\n",
    "    return nums[::-1]"
   ]
  },
  {
   "cell_type": "code",
   "execution_count": 70,
   "id": "05a37aae",
   "metadata": {},
   "outputs": [
    {
     "data": {
      "text/plain": [
       "[3, 2, 1]"
      ]
     },
     "execution_count": 70,
     "metadata": {},
     "output_type": "execute_result"
    }
   ],
   "source": [
    "reverse3([1, 2, 3])"
   ]
  },
  {
   "cell_type": "markdown",
   "id": "d3d3ae13",
   "metadata": {},
   "source": [
    "Given an array of ints length 3, figure out which is larger, the first or last element in the array, and set all the other elements to be that value. Return the changed array.\n",
    "\n",
    "\n",
    "    max_end3([1, 2, 3]) → [3, 3, 3]\n",
    "    max_end3([11, 5, 9]) → [11, 11, 11]\n",
    "    max_end3([2, 11, 3]) → [3, 3, 3]"
   ]
  },
  {
   "cell_type": "code",
   "execution_count": 88,
   "id": "3490e920",
   "metadata": {},
   "outputs": [],
   "source": [
    "def max_end3(nums):\n",
    "    y=nums[0]\n",
    "    x=nums[2]\n",
    "    i=max (x,y)\n",
    "    return [i,i,i]"
   ]
  },
  {
   "cell_type": "code",
   "execution_count": 89,
   "id": "d0a1757e",
   "metadata": {},
   "outputs": [
    {
     "data": {
      "text/plain": [
       "[3, 3, 3]"
      ]
     },
     "execution_count": 89,
     "metadata": {},
     "output_type": "execute_result"
    }
   ],
   "source": [
    "max_end3([1, 2, 3])"
   ]
  },
  {
   "cell_type": "code",
   "execution_count": 90,
   "id": "498b8717",
   "metadata": {},
   "outputs": [
    {
     "data": {
      "text/plain": [
       "[11, 11, 11]"
      ]
     },
     "execution_count": 90,
     "metadata": {},
     "output_type": "execute_result"
    }
   ],
   "source": [
    "max_end3([11, 5, 9])"
   ]
  },
  {
   "cell_type": "code",
   "execution_count": 91,
   "id": "608e413e",
   "metadata": {},
   "outputs": [
    {
     "data": {
      "text/plain": [
       "[3, 3, 3]"
      ]
     },
     "execution_count": 91,
     "metadata": {},
     "output_type": "execute_result"
    }
   ],
   "source": [
    "max_end3([2, 11, 3])"
   ]
  },
  {
   "cell_type": "markdown",
   "id": "328aa5ec",
   "metadata": {},
   "source": [
    "Given an array of ints, return the sum of the first 2 elements in the array. If the array length is less than 2, just sum up the elements that exist, returning 0 if the array is length 0.\n",
    "\n",
    "\n",
    "    sum2([1, 2, 3]) → 3\n",
    "    sum2([1, 1]) → 2\n",
    "    sum2([1, 1, 1, 1]) → 2"
   ]
  },
  {
   "cell_type": "code",
   "execution_count": 108,
   "id": "66a843d1",
   "metadata": {},
   "outputs": [],
   "source": [
    "def sum2(nums):\n",
    "    if len(nums)<2:\n",
    "        return sum(nums)\n",
    "    return nums[0]+nums[1]"
   ]
  },
  {
   "cell_type": "code",
   "execution_count": 109,
   "id": "6bb7dadc",
   "metadata": {},
   "outputs": [
    {
     "data": {
      "text/plain": [
       "3"
      ]
     },
     "execution_count": 109,
     "metadata": {},
     "output_type": "execute_result"
    }
   ],
   "source": [
    "sum2([1, 2, 3])"
   ]
  },
  {
   "cell_type": "code",
   "execution_count": 110,
   "id": "abda01fa",
   "metadata": {},
   "outputs": [
    {
     "data": {
      "text/plain": [
       "2"
      ]
     },
     "execution_count": 110,
     "metadata": {},
     "output_type": "execute_result"
    }
   ],
   "source": [
    "sum2([1, 1])"
   ]
  },
  {
   "cell_type": "code",
   "execution_count": 111,
   "id": "ea09fcf4",
   "metadata": {},
   "outputs": [
    {
     "data": {
      "text/plain": [
       "2"
      ]
     },
     "execution_count": 111,
     "metadata": {},
     "output_type": "execute_result"
    }
   ],
   "source": [
    "sum2([1, 1, 1, 1])"
   ]
  },
  {
   "cell_type": "code",
   "execution_count": 112,
   "id": "bf07b289",
   "metadata": {},
   "outputs": [
    {
     "data": {
      "text/plain": [
       "0"
      ]
     },
     "execution_count": 112,
     "metadata": {},
     "output_type": "execute_result"
    }
   ],
   "source": [
    "sum2([])"
   ]
  },
  {
   "cell_type": "markdown",
   "id": "d9ffb850",
   "metadata": {},
   "source": [
    "Given 2 int arrays, a and b, each length 3, return a new array length 2 containing their middle elements.\n",
    "\n",
    "    middle_way([1, 2, 3], [4, 5, 6]) → [2, 5]\n",
    "    middle_way([7, 7, 7], [3, 8, 0]) → [7, 8]\n",
    "    middle_way([5, 2, 9], [1, 4, 5]) → [2, 4]"
   ]
  },
  {
   "cell_type": "code",
   "execution_count": 117,
   "id": "d1a732b5",
   "metadata": {},
   "outputs": [],
   "source": [
    "def middle_way(a, b):\n",
    "    return [a[1],b[1]]"
   ]
  },
  {
   "cell_type": "code",
   "execution_count": 118,
   "id": "ea3b82ad",
   "metadata": {},
   "outputs": [
    {
     "data": {
      "text/plain": [
       "[2, 5]"
      ]
     },
     "execution_count": 118,
     "metadata": {},
     "output_type": "execute_result"
    }
   ],
   "source": [
    "middle_way([1, 2, 3], [4, 5, 6])"
   ]
  },
  {
   "cell_type": "code",
   "execution_count": 119,
   "id": "5789ecb1",
   "metadata": {},
   "outputs": [
    {
     "data": {
      "text/plain": [
       "[7, 8]"
      ]
     },
     "execution_count": 119,
     "metadata": {},
     "output_type": "execute_result"
    }
   ],
   "source": [
    "middle_way([7, 7, 7], [3, 8, 0])"
   ]
  },
  {
   "cell_type": "code",
   "execution_count": 120,
   "id": "179b02ad",
   "metadata": {},
   "outputs": [
    {
     "data": {
      "text/plain": [
       "[2, 4]"
      ]
     },
     "execution_count": 120,
     "metadata": {},
     "output_type": "execute_result"
    }
   ],
   "source": [
    "middle_way([5, 2, 9], [1, 4, 5])"
   ]
  },
  {
   "cell_type": "markdown",
   "id": "60aceb1a",
   "metadata": {},
   "source": [
    "Given an array of ints, return a new array length 2 containing the first and last elements from the original array. The original array will be length 1 or more.\n",
    "\n",
    "    make_ends([1, 2, 3]) → [1, 3]\n",
    "    make_ends([1, 2, 3, 4]) → [1, 4]\n",
    "    make_ends([7, 4, 6, 2]) → [7, 2]"
   ]
  },
  {
   "cell_type": "code",
   "execution_count": 124,
   "id": "efbf3e3b",
   "metadata": {},
   "outputs": [],
   "source": [
    "def make_ends(nums):\n",
    "    return[nums[0],nums[-1]]"
   ]
  },
  {
   "cell_type": "code",
   "execution_count": 125,
   "id": "16c50690",
   "metadata": {},
   "outputs": [
    {
     "data": {
      "text/plain": [
       "[1, 3]"
      ]
     },
     "execution_count": 125,
     "metadata": {},
     "output_type": "execute_result"
    }
   ],
   "source": [
    "make_ends([1, 2, 3])"
   ]
  },
  {
   "cell_type": "code",
   "execution_count": 126,
   "id": "57eaf932",
   "metadata": {},
   "outputs": [
    {
     "data": {
      "text/plain": [
       "[1, 4]"
      ]
     },
     "execution_count": 126,
     "metadata": {},
     "output_type": "execute_result"
    }
   ],
   "source": [
    "make_ends([1, 2, 3, 4])"
   ]
  },
  {
   "cell_type": "code",
   "execution_count": 127,
   "id": "044a9417",
   "metadata": {},
   "outputs": [
    {
     "data": {
      "text/plain": [
       "[7, 2]"
      ]
     },
     "execution_count": 127,
     "metadata": {},
     "output_type": "execute_result"
    }
   ],
   "source": [
    "make_ends([7, 4, 6, 2])"
   ]
  },
  {
   "cell_type": "markdown",
   "id": "98cba0e0",
   "metadata": {},
   "source": [
    "Given an int array length 2, return True if it contains a 2 or a 3.\n",
    "\n",
    "\n",
    "    has23([2, 5]) → True\n",
    "    has23([4, 3]) → True\n",
    "    has23([4, 5]) → False"
   ]
  },
  {
   "cell_type": "code",
   "execution_count": 142,
   "id": "8d645468",
   "metadata": {},
   "outputs": [],
   "source": [
    "def has23(nums):\n",
    "    if 2 in nums or 3 in nums:\n",
    "        return True\n",
    "    return False"
   ]
  },
  {
   "cell_type": "code",
   "execution_count": 143,
   "id": "a3614e9a",
   "metadata": {},
   "outputs": [
    {
     "data": {
      "text/plain": [
       "True"
      ]
     },
     "execution_count": 143,
     "metadata": {},
     "output_type": "execute_result"
    }
   ],
   "source": [
    "has23([2, 5])"
   ]
  },
  {
   "cell_type": "code",
   "execution_count": 144,
   "id": "7803aec1",
   "metadata": {},
   "outputs": [
    {
     "data": {
      "text/plain": [
       "False"
      ]
     },
     "execution_count": 144,
     "metadata": {},
     "output_type": "execute_result"
    }
   ],
   "source": [
    "has23([4, 5])"
   ]
  },
  {
   "cell_type": "markdown",
   "id": "61387757",
   "metadata": {},
   "source": [
    "When squirrels get together for a party, they like to have cigars. A squirrel party is successful when the number of cigars is between 40 and 60, inclusive. Unless it is the weekend, in which case there is no upper bound on the number of cigars. Return True if the party with the given values is successful, or False otherwise.\n",
    "\n",
    "    cigar_party(30, False) → False\n",
    "    cigar_party(50, False) → True\n",
    "    cigar_party(70, True) → True"
   ]
  },
  {
   "cell_type": "code",
   "execution_count": 194,
   "id": "e542f5cf",
   "metadata": {},
   "outputs": [],
   "source": [
    "def cigar_party(cigars, is_weekend):\n",
    "    if is_weekend==True:\n",
    "        if cigars>=40:\n",
    "            return True\n",
    "    elif is_weekend==False:\n",
    "        if cigars in range(40,61):\n",
    "            return True\n",
    "    return False"
   ]
  },
  {
   "cell_type": "code",
   "execution_count": 195,
   "id": "894ee357",
   "metadata": {},
   "outputs": [
    {
     "data": {
      "text/plain": [
       "False"
      ]
     },
     "execution_count": 195,
     "metadata": {},
     "output_type": "execute_result"
    }
   ],
   "source": [
    "cigar_party(30, False)"
   ]
  },
  {
   "cell_type": "code",
   "execution_count": 196,
   "id": "e5897dc7",
   "metadata": {},
   "outputs": [
    {
     "data": {
      "text/plain": [
       "True"
      ]
     },
     "execution_count": 196,
     "metadata": {},
     "output_type": "execute_result"
    }
   ],
   "source": [
    "cigar_party(50, False)"
   ]
  },
  {
   "cell_type": "code",
   "execution_count": 197,
   "id": "7cec0447",
   "metadata": {},
   "outputs": [
    {
     "data": {
      "text/plain": [
       "True"
      ]
     },
     "execution_count": 197,
     "metadata": {},
     "output_type": "execute_result"
    }
   ],
   "source": [
    "cigar_party(70, True)"
   ]
  },
  {
   "cell_type": "code",
   "execution_count": 198,
   "id": "b240a538",
   "metadata": {},
   "outputs": [
    {
     "data": {
      "text/plain": [
       "True"
      ]
     },
     "execution_count": 198,
     "metadata": {},
     "output_type": "execute_result"
    }
   ],
   "source": [
    "cigar_party(60, False)"
   ]
  },
  {
   "cell_type": "code",
   "execution_count": 199,
   "id": "db709dae",
   "metadata": {},
   "outputs": [
    {
     "data": {
      "text/plain": [
       "True"
      ]
     },
     "execution_count": 199,
     "metadata": {},
     "output_type": "execute_result"
    }
   ],
   "source": [
    "cigar_party(40, True)"
   ]
  },
  {
   "cell_type": "markdown",
   "id": "29737b1d",
   "metadata": {},
   "source": [
    "You and your date are trying to get a table at a restaurant. The parameter \"you\" is the stylishness of your clothes, in the range 0..10, and \"date\" is the stylishness of your date's clothes. The result getting the table is encoded as an int value with 0=no, 1=maybe, 2=yes. If either of you is very stylish, 8 or more, then the result is 2 (yes). With the exception that if either of you has style of 2 or less, then the result is 0 (no). Otherwise the result is 1 (maybe).\n",
    "\n",
    "    date_fashion(5, 10) → 2\n",
    "    date_fashion(5, 2) → 0\n",
    "    date_fashion(5, 5) → 1"
   ]
  },
  {
   "cell_type": "code",
   "execution_count": 210,
   "id": "f437669d",
   "metadata": {},
   "outputs": [],
   "source": [
    "def date_fashion(you, date):\n",
    "    if you<=2 or date<=2:\n",
    "        return 0\n",
    "    elif you>=8 or date>=8:\n",
    "        return 2 \n",
    "    else:\n",
    "        return 1"
   ]
  },
  {
   "cell_type": "code",
   "execution_count": 213,
   "id": "4db2a9d5",
   "metadata": {},
   "outputs": [
    {
     "data": {
      "text/plain": [
       "2"
      ]
     },
     "execution_count": 213,
     "metadata": {},
     "output_type": "execute_result"
    }
   ],
   "source": [
    "date_fashion(5, 10)"
   ]
  },
  {
   "cell_type": "code",
   "execution_count": 214,
   "id": "5793f915",
   "metadata": {},
   "outputs": [
    {
     "data": {
      "text/plain": [
       "0"
      ]
     },
     "execution_count": 214,
     "metadata": {},
     "output_type": "execute_result"
    }
   ],
   "source": [
    "date_fashion(5, 2)"
   ]
  },
  {
   "cell_type": "code",
   "execution_count": 215,
   "id": "b0b93f81",
   "metadata": {},
   "outputs": [
    {
     "data": {
      "text/plain": [
       "1"
      ]
     },
     "execution_count": 215,
     "metadata": {},
     "output_type": "execute_result"
    }
   ],
   "source": [
    "date_fashion(5, 5)"
   ]
  },
  {
   "cell_type": "code",
   "execution_count": 216,
   "id": "985c7047",
   "metadata": {},
   "outputs": [
    {
     "data": {
      "text/plain": [
       "0"
      ]
     },
     "execution_count": 216,
     "metadata": {},
     "output_type": "execute_result"
    }
   ],
   "source": [
    "date_fashion(2, 10)"
   ]
  },
  {
   "cell_type": "markdown",
   "id": "a0bcaf3c",
   "metadata": {},
   "source": [
    "The squirrels in Palo Alto spend most of the day playing. In particular, they play if the temperature is between 60 and 90 (inclusive). Unless it is summer, then the upper limit is 100 instead of 90. Given an int temperature and a boolean is_summer, return True if the squirrels play and False otherwise.\n",
    "\n",
    "    squirrel_play(70, False) → True\n",
    "    squirrel_play(95, False) → False\n",
    "    squirrel_play(95, True) → True"
   ]
  },
  {
   "cell_type": "code",
   "execution_count": 219,
   "id": "20e32115",
   "metadata": {},
   "outputs": [],
   "source": [
    "def squirrel_play(temp, is_summer):\n",
    "    if is_summer==True:\n",
    "        if temp in range(60,101):\n",
    "            return True\n",
    "    elif is_summer==False:\n",
    "        if temp in range(60,91):\n",
    "            return True\n",
    "    return False"
   ]
  },
  {
   "cell_type": "code",
   "execution_count": 220,
   "id": "10c77674",
   "metadata": {},
   "outputs": [
    {
     "data": {
      "text/plain": [
       "True"
      ]
     },
     "execution_count": 220,
     "metadata": {},
     "output_type": "execute_result"
    }
   ],
   "source": [
    "squirrel_play(70, False)"
   ]
  },
  {
   "cell_type": "code",
   "execution_count": 221,
   "id": "4d0637b2",
   "metadata": {},
   "outputs": [
    {
     "data": {
      "text/plain": [
       "False"
      ]
     },
     "execution_count": 221,
     "metadata": {},
     "output_type": "execute_result"
    }
   ],
   "source": [
    "squirrel_play(95, False)"
   ]
  },
  {
   "cell_type": "code",
   "execution_count": 222,
   "id": "7da9ddec",
   "metadata": {},
   "outputs": [
    {
     "data": {
      "text/plain": [
       "True"
      ]
     },
     "execution_count": 222,
     "metadata": {},
     "output_type": "execute_result"
    }
   ],
   "source": [
    "squirrel_play(95, True)"
   ]
  },
  {
   "cell_type": "markdown",
   "id": "f3c6c754",
   "metadata": {},
   "source": [
    "You are driving a little too fast, and a police officer stops you. Write code to compute the result, encoded as an int value: 0=no ticket, 1=small ticket, 2=big ticket. If speed is 60 or less, the result is 0. If speed is between 61 and 80 inclusive, the result is 1. If speed is 81 or more, the result is 2. Unless it is your birthday -- on that day, your speed can be 5 higher in all cases.\n",
    "\n",
    "\n",
    "    caught_speeding(60, False) → 0\n",
    "    caught_speeding(65, False) → 1\n",
    "    caught_speeding(65, True) → 0"
   ]
  },
  {
   "cell_type": "code",
   "execution_count": 262,
   "id": "7756d84d",
   "metadata": {},
   "outputs": [],
   "source": [
    "def caught_speeding(speed, is_birthday):\n",
    "    if is_birthday==True:\n",
    "        speed=speed-5\n",
    "    if speed<=60:\n",
    "        return 0\n",
    "    elif speed in range(61,81):\n",
    "        return 1\n",
    "    elif speed>=81:\n",
    "        return 2"
   ]
  },
  {
   "cell_type": "code",
   "execution_count": 263,
   "id": "8a614f2c",
   "metadata": {},
   "outputs": [
    {
     "data": {
      "text/plain": [
       "0"
      ]
     },
     "execution_count": 263,
     "metadata": {},
     "output_type": "execute_result"
    }
   ],
   "source": [
    "caught_speeding(60, False)"
   ]
  },
  {
   "cell_type": "code",
   "execution_count": 264,
   "id": "8578ceeb",
   "metadata": {},
   "outputs": [
    {
     "data": {
      "text/plain": [
       "1"
      ]
     },
     "execution_count": 264,
     "metadata": {},
     "output_type": "execute_result"
    }
   ],
   "source": [
    "caught_speeding(65, False)"
   ]
  },
  {
   "cell_type": "code",
   "execution_count": 265,
   "id": "bc492204",
   "metadata": {},
   "outputs": [
    {
     "data": {
      "text/plain": [
       "0"
      ]
     },
     "execution_count": 265,
     "metadata": {},
     "output_type": "execute_result"
    }
   ],
   "source": [
    "caught_speeding(65, True)"
   ]
  },
  {
   "cell_type": "code",
   "execution_count": 268,
   "id": "8a07a9d0",
   "metadata": {},
   "outputs": [
    {
     "data": {
      "text/plain": [
       "2"
      ]
     },
     "execution_count": 268,
     "metadata": {},
     "output_type": "execute_result"
    }
   ],
   "source": [
    "caught_speeding(85, False)"
   ]
  },
  {
   "cell_type": "code",
   "execution_count": 269,
   "id": "fb91d4b3",
   "metadata": {},
   "outputs": [
    {
     "data": {
      "text/plain": [
       "1"
      ]
     },
     "execution_count": 269,
     "metadata": {},
     "output_type": "execute_result"
    }
   ],
   "source": [
    "caught_speeding(85, True)"
   ]
  },
  {
   "cell_type": "markdown",
   "id": "3798e932",
   "metadata": {},
   "source": [
    "Given 2 ints, a and b, return their sum. However, sums in the range 10..19 inclusive, are forbidden, so in that case just return 20.\n",
    "\n",
    "\n",
    "    sorta_sum(3, 4) → 7\n",
    "    sorta_sum(9, 4) → 20\n",
    "    sorta_sum(10, 11) → 21"
   ]
  },
  {
   "cell_type": "code",
   "execution_count": 293,
   "id": "fcb62c8e",
   "metadata": {},
   "outputs": [],
   "source": [
    "def sorta_sum(a, b):\n",
    "    if  a + b in range(10,20):\n",
    "        return 20\n",
    "    return a+b"
   ]
  },
  {
   "cell_type": "code",
   "execution_count": 290,
   "id": "cd346f4b",
   "metadata": {},
   "outputs": [
    {
     "data": {
      "text/plain": [
       "7"
      ]
     },
     "execution_count": 290,
     "metadata": {},
     "output_type": "execute_result"
    }
   ],
   "source": [
    "sorta_sum(3, 4)"
   ]
  },
  {
   "cell_type": "code",
   "execution_count": 291,
   "id": "552926b0",
   "metadata": {},
   "outputs": [
    {
     "data": {
      "text/plain": [
       "20"
      ]
     },
     "execution_count": 291,
     "metadata": {},
     "output_type": "execute_result"
    }
   ],
   "source": [
    "sorta_sum(9, 4)"
   ]
  },
  {
   "cell_type": "code",
   "execution_count": 303,
   "id": "5b702ea6",
   "metadata": {},
   "outputs": [
    {
     "data": {
      "text/plain": [
       "21"
      ]
     },
     "execution_count": 303,
     "metadata": {},
     "output_type": "execute_result"
    }
   ],
   "source": [
    "sorta_sum(10, 11)"
   ]
  },
  {
   "cell_type": "markdown",
   "id": "d0c5672d",
   "metadata": {},
   "source": [
    "Given a day of the week encoded as 0=Sun, 1=Mon, 2=Tue, ...6=Sat, and a boolean indicating if we are on vacation, return a string of the form \"7:00\" indicating when the alarm clock should ring. Weekdays, the alarm should be \"7:00\" and on the weekend it should be \"10:00\". Unless we are on vacation -- then on weekdays it should be \"10:00\" and weekends it should be \"off\".\n",
    "\n",
    "    alarm_clock(1, False) → '7:00'\n",
    "    alarm_clock(5, False) → '7:00'\n",
    "    alarm_clock(0, False) → '10:00'"
   ]
  },
  {
   "cell_type": "code",
   "execution_count": 117,
   "id": "7269b489",
   "metadata": {},
   "outputs": [],
   "source": [
    "def alarm_clock(day, vacation):\n",
    "    if vacation==True:\n",
    "        if day in range(1,6):\n",
    "            return '10:00'\n",
    "        return 'off'\n",
    "    if day in range(1,6):\n",
    "        return '7:00'\n",
    "    return '10:00'"
   ]
  },
  {
   "cell_type": "code",
   "execution_count": 118,
   "id": "f746a26e",
   "metadata": {},
   "outputs": [
    {
     "data": {
      "text/plain": [
       "'7:00'"
      ]
     },
     "execution_count": 118,
     "metadata": {},
     "output_type": "execute_result"
    }
   ],
   "source": [
    "alarm_clock(1, False)"
   ]
  },
  {
   "cell_type": "code",
   "execution_count": 119,
   "id": "f6b2d08e",
   "metadata": {},
   "outputs": [
    {
     "data": {
      "text/plain": [
       "'7:00'"
      ]
     },
     "execution_count": 119,
     "metadata": {},
     "output_type": "execute_result"
    }
   ],
   "source": [
    "alarm_clock(5, False)"
   ]
  },
  {
   "cell_type": "code",
   "execution_count": 120,
   "id": "ce244c1b",
   "metadata": {},
   "outputs": [
    {
     "data": {
      "text/plain": [
       "'10:00'"
      ]
     },
     "execution_count": 120,
     "metadata": {},
     "output_type": "execute_result"
    }
   ],
   "source": [
    "alarm_clock(0, False)"
   ]
  },
  {
   "cell_type": "code",
   "execution_count": 121,
   "id": "b2585bfb",
   "metadata": {},
   "outputs": [
    {
     "data": {
      "text/plain": [
       "'off'"
      ]
     },
     "execution_count": 121,
     "metadata": {},
     "output_type": "execute_result"
    }
   ],
   "source": [
    "alarm_clock(0, True)"
   ]
  },
  {
   "cell_type": "code",
   "execution_count": 122,
   "id": "0845148f",
   "metadata": {},
   "outputs": [
    {
     "data": {
      "text/plain": [
       "'10:00'"
      ]
     },
     "execution_count": 122,
     "metadata": {},
     "output_type": "execute_result"
    }
   ],
   "source": [
    "alarm_clock(3, True)"
   ]
  },
  {
   "cell_type": "code",
   "execution_count": 123,
   "id": "1ce8875c",
   "metadata": {},
   "outputs": [
    {
     "data": {
      "text/plain": [
       "'7:00'"
      ]
     },
     "execution_count": 123,
     "metadata": {},
     "output_type": "execute_result"
    }
   ],
   "source": [
    "alarm_clock(5, False)"
   ]
  },
  {
   "cell_type": "code",
   "execution_count": 124,
   "id": "af6dfb78",
   "metadata": {},
   "outputs": [
    {
     "data": {
      "text/plain": [
       "'10:00'"
      ]
     },
     "execution_count": 124,
     "metadata": {},
     "output_type": "execute_result"
    }
   ],
   "source": [
    "alarm_clock(5, True)"
   ]
  },
  {
   "cell_type": "markdown",
   "id": "d66b9932",
   "metadata": {},
   "source": [
    "The number 6 is a truly great number. Given two int values, a and b, return True if either one is 6. Or if their sum or difference is 6. Note: the function abs(num) computes the absolute value of a number.\n",
    "\n",
    "    love6(6, 4) → True\n",
    "    love6(4, 5) → False\n",
    "    love6(1, 5) → True"
   ]
  },
  {
   "cell_type": "code",
   "execution_count": 161,
   "id": "90a44001",
   "metadata": {},
   "outputs": [],
   "source": [
    "def love6(a, b):\n",
    "    return a==6 or b==6 or a-b==abs(6) or a+b==abs(6) or b-a==abs(6) or b-a==abs(6)"
   ]
  },
  {
   "cell_type": "code",
   "execution_count": 162,
   "id": "f347c0ef",
   "metadata": {},
   "outputs": [
    {
     "data": {
      "text/plain": [
       "True"
      ]
     },
     "execution_count": 162,
     "metadata": {},
     "output_type": "execute_result"
    }
   ],
   "source": [
    "love6(6, 4)"
   ]
  },
  {
   "cell_type": "code",
   "execution_count": 163,
   "id": "aa45bbbf",
   "metadata": {},
   "outputs": [
    {
     "data": {
      "text/plain": [
       "False"
      ]
     },
     "execution_count": 163,
     "metadata": {},
     "output_type": "execute_result"
    }
   ],
   "source": [
    "love6(4, 5)"
   ]
  },
  {
   "cell_type": "code",
   "execution_count": 164,
   "id": "353d0f3b",
   "metadata": {},
   "outputs": [
    {
     "data": {
      "text/plain": [
       "True"
      ]
     },
     "execution_count": 164,
     "metadata": {},
     "output_type": "execute_result"
    }
   ],
   "source": [
    "love6(1, 5)"
   ]
  },
  {
   "cell_type": "code",
   "execution_count": 165,
   "id": "c6ddfa9e",
   "metadata": {},
   "outputs": [
    {
     "data": {
      "text/plain": [
       "False"
      ]
     },
     "execution_count": 165,
     "metadata": {},
     "output_type": "execute_result"
    }
   ],
   "source": [
    "love6(-6, 2)"
   ]
  },
  {
   "cell_type": "code",
   "execution_count": 166,
   "id": "7b67633e",
   "metadata": {},
   "outputs": [
    {
     "data": {
      "text/plain": [
       "False"
      ]
     },
     "execution_count": 166,
     "metadata": {},
     "output_type": "execute_result"
    }
   ],
   "source": [
    "love6(-2, -4)"
   ]
  },
  {
   "cell_type": "code",
   "execution_count": 167,
   "id": "36b96830",
   "metadata": {},
   "outputs": [
    {
     "data": {
      "text/plain": [
       "False"
      ]
     },
     "execution_count": 167,
     "metadata": {},
     "output_type": "execute_result"
    }
   ],
   "source": [
    "love6(1, 7)"
   ]
  },
  {
   "cell_type": "markdown",
   "id": "740624a6",
   "metadata": {},
   "source": [
    "Given a number n, return True if n is in the range 1..10, inclusive. Unless outside_mode is True, in which case return True if the number is less or equal to 1, or greater or equal to 10.\n",
    "\n",
    "    in1to10(5, False) → True\n",
    "    in1to10(11, False) → False\n",
    "    in1to10(11, True) → True"
   ]
  },
  {
   "cell_type": "code",
   "execution_count": 203,
   "id": "c1857bba",
   "metadata": {},
   "outputs": [],
   "source": [
    "def in1to10(n, outside_mode):\n",
    "    if outside_mode== False:\n",
    "        if n in range(1,11):\n",
    "            return True\n",
    "        return False\n",
    "    if n>=10 or n<=1:\n",
    "        return True\n",
    "    return False"
   ]
  },
  {
   "cell_type": "code",
   "execution_count": 204,
   "id": "877ec2c4",
   "metadata": {},
   "outputs": [
    {
     "data": {
      "text/plain": [
       "True"
      ]
     },
     "execution_count": 204,
     "metadata": {},
     "output_type": "execute_result"
    }
   ],
   "source": [
    "in1to10(5, False)"
   ]
  },
  {
   "cell_type": "code",
   "execution_count": 205,
   "id": "9a704701",
   "metadata": {},
   "outputs": [
    {
     "data": {
      "text/plain": [
       "False"
      ]
     },
     "execution_count": 205,
     "metadata": {},
     "output_type": "execute_result"
    }
   ],
   "source": [
    "in1to10(11, False)"
   ]
  },
  {
   "cell_type": "code",
   "execution_count": 206,
   "id": "340f84f1",
   "metadata": {},
   "outputs": [
    {
     "data": {
      "text/plain": [
       "True"
      ]
     },
     "execution_count": 206,
     "metadata": {},
     "output_type": "execute_result"
    }
   ],
   "source": [
    "in1to10(11, True)"
   ]
  },
  {
   "cell_type": "code",
   "execution_count": 207,
   "id": "e1d86762",
   "metadata": {},
   "outputs": [
    {
     "data": {
      "text/plain": [
       "True"
      ]
     },
     "execution_count": 207,
     "metadata": {},
     "output_type": "execute_result"
    }
   ],
   "source": [
    "in1to10(1, True)"
   ]
  },
  {
   "cell_type": "code",
   "execution_count": 208,
   "id": "1911584d",
   "metadata": {},
   "outputs": [
    {
     "data": {
      "text/plain": [
       "False"
      ]
     },
     "execution_count": 208,
     "metadata": {},
     "output_type": "execute_result"
    }
   ],
   "source": [
    "in1to10(0, False)"
   ]
  },
  {
   "cell_type": "markdown",
   "id": "78edcee7",
   "metadata": {},
   "source": [
    "Given a non-negative number \"num\", return True if num is within 2 of a multiple of 10. Note: (a % b) is the remainder of dividing a by b, so (7 % 5) is 2. See also: Introduction to Mod\n",
    "\n",
    "    near_ten(12) → True\n",
    "    near_ten(17) → False\n",
    "    near_ten(19) → True"
   ]
  },
  {
   "cell_type": "code",
   "execution_count": 274,
   "id": "a9d87073",
   "metadata": {},
   "outputs": [],
   "source": [
    "def near_ten(num):\n",
    "    \n",
    "    pass"
   ]
  },
  {
   "cell_type": "code",
   "execution_count": 275,
   "id": "eee7c08d",
   "metadata": {},
   "outputs": [],
   "source": [
    "near_ten(12)"
   ]
  },
  {
   "cell_type": "code",
   "execution_count": 276,
   "id": "2bb6263f",
   "metadata": {},
   "outputs": [],
   "source": [
    "near_ten(17)"
   ]
  },
  {
   "cell_type": "code",
   "execution_count": 277,
   "id": "b01c1fa3",
   "metadata": {},
   "outputs": [],
   "source": [
    "near_ten(19)"
   ]
  },
  {
   "cell_type": "markdown",
   "id": "a0fbcf49",
   "metadata": {},
   "source": [
    "We want to make a row of bricks that is goal inches long. We have a number of small bricks (1 inch each) and big bricks (5 inches each). Return True if it is possible to make the goal by choosing from the given bricks. This is a little harder than it looks and can be done without any loops. See also: Introduction to MakeBricks\n",
    "\n",
    "    make_bricks(3, 1, 8) → True\n",
    "    make_bricks(3, 1, 9) → False\n",
    "    make_bricks(3, 2, 10) → True"
   ]
  },
  {
   "cell_type": "code",
   "execution_count": 21,
   "id": "84d447b5",
   "metadata": {},
   "outputs": [],
   "source": [
    "def make_bricks(small, big, goal):\n",
    "    if goal>small+big*5:\n",
    "        return False\n",
    "    elif goal%5>small:\n",
    "        return False\n",
    "    return True"
   ]
  },
  {
   "cell_type": "code",
   "execution_count": 22,
   "id": "d14c722b",
   "metadata": {},
   "outputs": [
    {
     "data": {
      "text/plain": [
       "True"
      ]
     },
     "execution_count": 22,
     "metadata": {},
     "output_type": "execute_result"
    }
   ],
   "source": [
    "make_bricks(3, 1, 8)"
   ]
  },
  {
   "cell_type": "code",
   "execution_count": 23,
   "id": "2254ee57",
   "metadata": {},
   "outputs": [
    {
     "data": {
      "text/plain": [
       "False"
      ]
     },
     "execution_count": 23,
     "metadata": {},
     "output_type": "execute_result"
    }
   ],
   "source": [
    "make_bricks(3, 1, 9)"
   ]
  },
  {
   "cell_type": "code",
   "execution_count": 24,
   "id": "a0ad76a0",
   "metadata": {},
   "outputs": [
    {
     "data": {
      "text/plain": [
       "True"
      ]
     },
     "execution_count": 24,
     "metadata": {},
     "output_type": "execute_result"
    }
   ],
   "source": [
    "make_bricks(3, 2, 10)"
   ]
  },
  {
   "cell_type": "markdown",
   "id": "68440f88",
   "metadata": {},
   "source": [
    "Given 3 int values, a b c, return their sum. However, if one of the values is the same as another of the values, it does not count towards the sum.\n",
    "\n",
    "    lone_sum(1, 2, 3) → 6\n",
    "    lone_sum(3, 2, 3) → 2\n",
    "    lone_sum(3, 3, 3) → 0"
   ]
  },
  {
   "cell_type": "code",
   "execution_count": 32,
   "id": "2ee370f4",
   "metadata": {},
   "outputs": [],
   "source": [
    "def lone_sum(a, b, c):\n",
    "    if a==b and a==c:\n",
    "        return 0\n",
    "    elif a==c:\n",
    "        return b\n",
    "    elif a==b:\n",
    "        return c\n",
    "    elif b==c:\n",
    "        return a\n",
    "    return a+b+c"
   ]
  },
  {
   "cell_type": "code",
   "execution_count": 33,
   "id": "6619925f",
   "metadata": {},
   "outputs": [
    {
     "data": {
      "text/plain": [
       "6"
      ]
     },
     "execution_count": 33,
     "metadata": {},
     "output_type": "execute_result"
    }
   ],
   "source": [
    "lone_sum(1, 2, 3)"
   ]
  },
  {
   "cell_type": "code",
   "execution_count": 34,
   "id": "a5f32f84",
   "metadata": {},
   "outputs": [
    {
     "data": {
      "text/plain": [
       "2"
      ]
     },
     "execution_count": 34,
     "metadata": {},
     "output_type": "execute_result"
    }
   ],
   "source": [
    "lone_sum(3, 2, 3)"
   ]
  },
  {
   "cell_type": "code",
   "execution_count": 35,
   "id": "474d43e2",
   "metadata": {},
   "outputs": [
    {
     "data": {
      "text/plain": [
       "0"
      ]
     },
     "execution_count": 35,
     "metadata": {},
     "output_type": "execute_result"
    }
   ],
   "source": [
    "lone_sum(3, 3, 3)"
   ]
  },
  {
   "cell_type": "markdown",
   "id": "df221d18",
   "metadata": {},
   "source": [
    "Given 3 int values, a b c, return their sum. However, if one of the values is 13 then it does not count towards the sum and values to its right do not count. So for example, if b is 13, then both b and c do not count.\n",
    "\n",
    "\n",
    "    lucky_sum(1, 2, 3) → 6\n",
    "    lucky_sum(1, 2, 13) → 3\n",
    "    lucky_sum(1, 13, 3) → 1"
   ]
  },
  {
   "cell_type": "code",
   "execution_count": 9,
   "id": "3952a709",
   "metadata": {},
   "outputs": [],
   "source": [
    "def lucky_sum(a, b, c):\n",
    "    if a==13:\n",
    "        return 0\n",
    "    elif b==13:\n",
    "        return a\n",
    "    elif c==13:\n",
    "        return a+b\n",
    "    return a+b+c\n",
    "    "
   ]
  },
  {
   "cell_type": "code",
   "execution_count": 10,
   "id": "6442bc95",
   "metadata": {},
   "outputs": [
    {
     "data": {
      "text/plain": [
       "6"
      ]
     },
     "execution_count": 10,
     "metadata": {},
     "output_type": "execute_result"
    }
   ],
   "source": [
    "lucky_sum(1, 2, 3)"
   ]
  },
  {
   "cell_type": "code",
   "execution_count": 11,
   "id": "2b9addaf",
   "metadata": {},
   "outputs": [
    {
     "data": {
      "text/plain": [
       "3"
      ]
     },
     "execution_count": 11,
     "metadata": {},
     "output_type": "execute_result"
    }
   ],
   "source": [
    "lucky_sum(1, 2, 13)"
   ]
  },
  {
   "cell_type": "code",
   "execution_count": 12,
   "id": "8b663e6d",
   "metadata": {},
   "outputs": [
    {
     "data": {
      "text/plain": [
       "1"
      ]
     },
     "execution_count": 12,
     "metadata": {},
     "output_type": "execute_result"
    }
   ],
   "source": [
    "lucky_sum(1, 13, 3)"
   ]
  },
  {
   "cell_type": "markdown",
   "id": "ed540f92",
   "metadata": {},
   "source": [
    "Given 3 int values, a b c, return their sum. However, if any of the values is a teen -- in the range 13..19 inclusive -- then that value counts as 0, except 15 and 16 do not count as a teens. Write a separate helper \"def fix_teen(n):\"that takes in an int value and returns that value fixed for the teen rule. In this way, you avoid repeating the teen code 3 times (i.e. \"decomposition\"). Define the helper below and at the same indent level as the main no_teen_sum().\n",
    "\n",
    "\n",
    "    no_teen_sum(1, 2, 3) → 6\n",
    "    no_teen_sum(2, 13, 1) → 3\n",
    "    no_teen_sum(2, 1, 14) → 3"
   ]
  },
  {
   "cell_type": "code",
   "execution_count": 2,
   "id": "a8751bc3",
   "metadata": {},
   "outputs": [],
   "source": [
    "def no_teen_sum(a, b, c):\n",
    "    def  fix_teen(n):\n",
    "        return n if n not in [13,14,17,18,19] else 0\n",
    "    return fix_teen(a)+fix_teen(b)+fix_teen(c)"
   ]
  },
  {
   "cell_type": "code",
   "execution_count": 3,
   "id": "d7203b0d",
   "metadata": {},
   "outputs": [
    {
     "data": {
      "text/plain": [
       "6"
      ]
     },
     "execution_count": 3,
     "metadata": {},
     "output_type": "execute_result"
    }
   ],
   "source": [
    "no_teen_sum(1, 2, 3)"
   ]
  },
  {
   "cell_type": "code",
   "execution_count": 4,
   "id": "f9937ac8",
   "metadata": {},
   "outputs": [
    {
     "data": {
      "text/plain": [
       "3"
      ]
     },
     "execution_count": 4,
     "metadata": {},
     "output_type": "execute_result"
    }
   ],
   "source": [
    "no_teen_sum(2, 13, 1)"
   ]
  },
  {
   "cell_type": "code",
   "execution_count": 5,
   "id": "9814c90d",
   "metadata": {},
   "outputs": [
    {
     "data": {
      "text/plain": [
       "3"
      ]
     },
     "execution_count": 5,
     "metadata": {},
     "output_type": "execute_result"
    }
   ],
   "source": [
    "no_teen_sum(2, 1, 14)"
   ]
  },
  {
   "cell_type": "markdown",
   "id": "c7085ed6",
   "metadata": {},
   "source": [
    "For this problem, we'll round an int value up to the next multiple of 10 if its rightmost digit is 5 or more, so 15 rounds up to 20. Alternately, round down to the previous multiple of 10 if its rightmost digit is less than 5, so 12 rounds down to 10. Given 3 ints, a b c, return the sum of their rounded values. To avoid code repetition, write a separate helper \"def round10(num):\" and call it 3 times. Write the helper entirely below and at the same indent level as round_sum().\n",
    "\n",
    "\n",
    "    round_sum(16, 17, 18) → 60\n",
    "    round_sum(12, 13, 14) → 30\n",
    "    round_sum(6, 4, 4) → 10"
   ]
  },
  {
   "cell_type": "code",
   "execution_count": 11,
   "id": "0266e89f",
   "metadata": {},
   "outputs": [],
   "source": [
    "def round_sum(a, b, c):\n",
    "    def round10(num):\n",
    "        if num%10>=5:\n",
    "            return num-num%10+10\n",
    "        else:\n",
    "            if num%10<5:\n",
    "                return num-num%10\n",
    "    return round10(a)+round10(b)+round10(c)"
   ]
  },
  {
   "cell_type": "code",
   "execution_count": 12,
   "id": "472e8f97",
   "metadata": {},
   "outputs": [
    {
     "data": {
      "text/plain": [
       "60"
      ]
     },
     "execution_count": 12,
     "metadata": {},
     "output_type": "execute_result"
    }
   ],
   "source": [
    "round_sum(16, 17, 18)"
   ]
  },
  {
   "cell_type": "code",
   "execution_count": 13,
   "id": "be6ce93b",
   "metadata": {},
   "outputs": [
    {
     "data": {
      "text/plain": [
       "30"
      ]
     },
     "execution_count": 13,
     "metadata": {},
     "output_type": "execute_result"
    }
   ],
   "source": [
    "round_sum(12, 13, 14)"
   ]
  },
  {
   "cell_type": "code",
   "execution_count": 14,
   "id": "34c2926c",
   "metadata": {},
   "outputs": [
    {
     "data": {
      "text/plain": [
       "10"
      ]
     },
     "execution_count": 14,
     "metadata": {},
     "output_type": "execute_result"
    }
   ],
   "source": [
    "round_sum(6, 4, 4)"
   ]
  },
  {
   "cell_type": "markdown",
   "id": "1d65da5f",
   "metadata": {},
   "source": [
    "Given three ints, a b c, return True if one of b or c is \"close\" (differing from a by at most 1), while the other is \"far\", differing from both other values by 2 or more. Note: abs(num) computes the absolute value of a number.\n",
    "\n",
    "\n",
    "    close_far(1, 2, 10) → True\n",
    "    close_far(1, 2, 3) → False\n",
    "    close_far(4, 1, 3) → True"
   ]
  },
  {
   "cell_type": "code",
   "execution_count": 29,
   "id": "bdf3f0b0",
   "metadata": {},
   "outputs": [],
   "source": [
    "def close_far(a, b, c):\n",
    "    return ((abs(a-b) <= 1 and (abs(a-c) >= 2 and abs(b-c) >= 2)) or (abs(a-c) <= 1 and (abs(a-b) >= 2 and abs(b-c) >= 2)))"
   ]
  },
  {
   "cell_type": "code",
   "execution_count": 30,
   "id": "256e558f",
   "metadata": {},
   "outputs": [
    {
     "data": {
      "text/plain": [
       "True"
      ]
     },
     "execution_count": 30,
     "metadata": {},
     "output_type": "execute_result"
    }
   ],
   "source": [
    "close_far(1, 2, 10)"
   ]
  },
  {
   "cell_type": "code",
   "execution_count": 31,
   "id": "47414a1b",
   "metadata": {},
   "outputs": [
    {
     "data": {
      "text/plain": [
       "False"
      ]
     },
     "execution_count": 31,
     "metadata": {},
     "output_type": "execute_result"
    }
   ],
   "source": [
    "close_far(1, 2, 3)"
   ]
  },
  {
   "cell_type": "code",
   "execution_count": 32,
   "id": "7f656efb",
   "metadata": {},
   "outputs": [
    {
     "data": {
      "text/plain": [
       "True"
      ]
     },
     "execution_count": 32,
     "metadata": {},
     "output_type": "execute_result"
    }
   ],
   "source": [
    "close_far(4, 1, 3)"
   ]
  },
  {
   "cell_type": "code",
   "execution_count": null,
   "id": "4aa94326",
   "metadata": {},
   "outputs": [],
   "source": []
  },
  {
   "cell_type": "code",
   "execution_count": null,
   "id": "606d3d80",
   "metadata": {},
   "outputs": [],
   "source": []
  }
 ],
 "metadata": {
  "kernelspec": {
   "display_name": "Python 3 (ipykernel)",
   "language": "python",
   "name": "python3"
  },
  "language_info": {
   "codemirror_mode": {
    "name": "ipython",
    "version": 3
   },
   "file_extension": ".py",
   "mimetype": "text/x-python",
   "name": "python",
   "nbconvert_exporter": "python",
   "pygments_lexer": "ipython3",
   "version": "3.9.12"
  }
 },
 "nbformat": 4,
 "nbformat_minor": 5
}
