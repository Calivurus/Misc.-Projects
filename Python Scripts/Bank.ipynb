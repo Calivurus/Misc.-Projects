{
 "cells": [
  {
   "cell_type": "code",
   "execution_count": 65,
   "id": "cf1c9e50",
   "metadata": {},
   "outputs": [],
   "source": [
    "class Account:\n",
    "    def __init__(self, name, balance, min_balance):\n",
    "        self.name = name\n",
    "        self.balance = balance\n",
    "        self.min_balance = min_balance\n",
    "    \n",
    "    def deposit(self, amount):\n",
    "        self.balance +=  amount\n",
    "    \n",
    "    def withdraw(self, amount):\n",
    "        if self.balance - amount >= self.min_balance:\n",
    "            self.balance -= amount\n",
    "        else:\n",
    "            print(\"Sorry, not enough funds!\")\n",
    "    \n",
    "    def statement(self):\n",
    "        print(\"Account Balance: ${}\".format(self.balance))\n",
    "        \n",
    "class Current(Account):\n",
    "    def __init__(self, name, balance):\n",
    "        super().__init__(name, balance, min_balance = -1000)\n",
    "        \n",
    "    def __str__(self):\n",
    "        return\"{}'s Current Account : Balance ${}\".format(self.name, self.balance)\n",
    "    \n",
    "class Savings(Account):\n",
    "    def __init__(self, name, balance):\n",
    "        super().__init__(name, balance, min_balance = 0)\n",
    "    def __str__(self):\n",
    "        return\"{}'s Savings Account : Balance ${}\".format(self.name, self.balance)"
   ]
  },
  {
   "cell_type": "code",
   "execution_count": 66,
   "id": "ad599ad6",
   "metadata": {},
   "outputs": [],
   "source": [
    "D = Current(\"Danny\", 500)"
   ]
  },
  {
   "cell_type": "code",
   "execution_count": 67,
   "id": "9c24126e",
   "metadata": {},
   "outputs": [],
   "source": [
    "D.deposit(300)"
   ]
  },
  {
   "cell_type": "code",
   "execution_count": 68,
   "id": "c7e9e56f",
   "metadata": {},
   "outputs": [
    {
     "name": "stdout",
     "output_type": "stream",
     "text": [
      "Account Balance: $800\n"
     ]
    }
   ],
   "source": [
    "D.statement()"
   ]
  },
  {
   "cell_type": "code",
   "execution_count": 69,
   "id": "8e7ab006",
   "metadata": {},
   "outputs": [
    {
     "name": "stdout",
     "output_type": "stream",
     "text": [
      "Danny's Current Account : Balance $800\n"
     ]
    }
   ],
   "source": [
    "print(D)"
   ]
  },
  {
   "cell_type": "code",
   "execution_count": 70,
   "id": "d092da23",
   "metadata": {},
   "outputs": [],
   "source": [
    "T = Savings(\"Tom\", 300)"
   ]
  },
  {
   "cell_type": "code",
   "execution_count": 71,
   "id": "b130d743",
   "metadata": {},
   "outputs": [
    {
     "name": "stdout",
     "output_type": "stream",
     "text": [
      "Tom's Savings Account : Balance $300\n"
     ]
    }
   ],
   "source": [
    "print(T)"
   ]
  },
  {
   "cell_type": "code",
   "execution_count": 72,
   "id": "a1289348",
   "metadata": {},
   "outputs": [],
   "source": [
    "T.withdraw(300)"
   ]
  },
  {
   "cell_type": "code",
   "execution_count": 74,
   "id": "7706a04e",
   "metadata": {},
   "outputs": [
    {
     "name": "stdout",
     "output_type": "stream",
     "text": [
      "Account Balance: $0\n"
     ]
    }
   ],
   "source": [
    "T.statement()"
   ]
  },
  {
   "cell_type": "code",
   "execution_count": null,
   "id": "0bb7b331",
   "metadata": {},
   "outputs": [],
   "source": []
  }
 ],
 "metadata": {
  "kernelspec": {
   "display_name": "Python 3 (ipykernel)",
   "language": "python",
   "name": "python3"
  },
  "language_info": {
   "codemirror_mode": {
    "name": "ipython",
    "version": 3
   },
   "file_extension": ".py",
   "mimetype": "text/x-python",
   "name": "python",
   "nbconvert_exporter": "python",
   "pygments_lexer": "ipython3",
   "version": "3.9.13"
  }
 },
 "nbformat": 4,
 "nbformat_minor": 5
}
