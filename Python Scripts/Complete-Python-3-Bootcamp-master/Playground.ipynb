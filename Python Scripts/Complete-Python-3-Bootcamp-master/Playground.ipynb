{
 "cells": [
  {
   "cell_type": "code",
   "execution_count": null,
   "id": "6fda62c7",
   "metadata": {},
   "outputs": [],
   "source": [
    "list1 = [0, 0,]\n",
    "list1.append(0)"
   ]
  },
  {
   "cell_type": "code",
   "execution_count": null,
   "id": "024cd068",
   "metadata": {},
   "outputs": [],
   "source": [
    "list1"
   ]
  },
  {
   "cell_type": "code",
   "execution_count": null,
   "id": "933cf90f",
   "metadata": {},
   "outputs": [],
   "source": [
    "list3 = [1,2,[3,4,'hello']]"
   ]
  },
  {
   "cell_type": "code",
   "execution_count": null,
   "id": "bf7ecda3",
   "metadata": {},
   "outputs": [],
   "source": [
    "list3[2].pop(2)"
   ]
  },
  {
   "cell_type": "code",
   "execution_count": null,
   "id": "b5186b4c",
   "metadata": {},
   "outputs": [],
   "source": [
    "list3[2].append(\"goodbye\")"
   ]
  },
  {
   "cell_type": "code",
   "execution_count": null,
   "id": "bcd2110c",
   "metadata": {},
   "outputs": [],
   "source": [
    "list3"
   ]
  },
  {
   "cell_type": "code",
   "execution_count": null,
   "id": "20045c58",
   "metadata": {},
   "outputs": [],
   "source": [
    "list4 = [5,3,4,6,1]"
   ]
  },
  {
   "cell_type": "code",
   "execution_count": null,
   "id": "d992da9c",
   "metadata": {},
   "outputs": [],
   "source": [
    "list4.sort()"
   ]
  },
  {
   "cell_type": "markdown",
   "id": "b1b907c5",
   "metadata": {},
   "source": [
    "#### "
   ]
  },
  {
   "cell_type": "code",
   "execution_count": null,
   "id": "91f0ae06",
   "metadata": {},
   "outputs": [],
   "source": [
    "list4"
   ]
  },
  {
   "cell_type": "code",
   "execution_count": null,
   "id": "5cff5cb9",
   "metadata": {},
   "outputs": [],
   "source": [
    "d = {'simple_key':'hello'}"
   ]
  },
  {
   "cell_type": "code",
   "execution_count": null,
   "id": "29dc9431",
   "metadata": {},
   "outputs": [],
   "source": [
    "d['simple_key']"
   ]
  },
  {
   "cell_type": "code",
   "execution_count": null,
   "id": "05e67953",
   "metadata": {},
   "outputs": [],
   "source": [
    "d = {'k1':{'k2':'hello'}}\n",
    "# Grab 'hello'"
   ]
  },
  {
   "cell_type": "code",
   "execution_count": null,
   "id": "fb851dea",
   "metadata": {},
   "outputs": [],
   "source": [
    "d[\"k1\"]['k2']"
   ]
  },
  {
   "cell_type": "code",
   "execution_count": null,
   "id": "c79c9273",
   "metadata": {},
   "outputs": [],
   "source": [
    "# Getting a little tricker\n",
    "d = {'k1':[{'nest_key':['this is deep',['hello']]}]}"
   ]
  },
  {
   "cell_type": "code",
   "execution_count": null,
   "id": "e79d0a51",
   "metadata": {},
   "outputs": [],
   "source": [
    "d['k1'][0]['nest_key'][1]"
   ]
  },
  {
   "cell_type": "code",
   "execution_count": null,
   "id": "55d1bd93",
   "metadata": {},
   "outputs": [],
   "source": [
    "d = {'k1':[1,2,{'k2':['this is tricky',{'tough':[1,2,['hello']]}]}]}"
   ]
  },
  {
   "cell_type": "code",
   "execution_count": null,
   "id": "f79a32cf",
   "metadata": {},
   "outputs": [],
   "source": [
    "d['k1']"
   ]
  },
  {
   "cell_type": "code",
   "execution_count": null,
   "id": "fccfbe79",
   "metadata": {},
   "outputs": [],
   "source": [
    "d['k1'][2]"
   ]
  },
  {
   "cell_type": "code",
   "execution_count": null,
   "id": "b89ba6db",
   "metadata": {},
   "outputs": [],
   "source": [
    "d['k1'][2]['k2'][1]['tough'][2]"
   ]
  },
  {
   "cell_type": "code",
   "execution_count": null,
   "id": "42d95373",
   "metadata": {},
   "outputs": [],
   "source": [
    "4*(6+5)"
   ]
  },
  {
   "cell_type": "code",
   "execution_count": null,
   "id": "8a014e24",
   "metadata": {},
   "outputs": [],
   "source": [
    "list5 = [1,2,2,33,4,4,11,22,3,3,2]"
   ]
  },
  {
   "cell_type": "code",
   "execution_count": null,
   "id": "2b28489a",
   "metadata": {},
   "outputs": [],
   "source": [
    "list5"
   ]
  },
  {
   "cell_type": "code",
   "execution_count": null,
   "id": "041ac808",
   "metadata": {},
   "outputs": [],
   "source": [
    "set(list5)"
   ]
  },
  {
   "cell_type": "markdown",
   "id": "a16d4095",
   "metadata": {},
   "source": [
    "_____\n",
    "**Use <code>for</code>, .split(), and <code>if</code> to create a Statement that will print out words that start with 's':**"
   ]
  },
  {
   "cell_type": "code",
   "execution_count": null,
   "id": "88c87ca9",
   "metadata": {},
   "outputs": [],
   "source": [
    "st = 'Print only the words that start with s in this sentence'"
   ]
  },
  {
   "cell_type": "code",
   "execution_count": null,
   "id": "21fbb1b2",
   "metadata": {},
   "outputs": [],
   "source": [
    "st = 'Print only the words that start with s in this sentence'\n",
    "st.split()\n"
   ]
  },
  {
   "cell_type": "code",
   "execution_count": null,
   "id": "9231fc55",
   "metadata": {},
   "outputs": [],
   "source": []
  },
  {
   "cell_type": "code",
   "execution_count": null,
   "id": "5c7e4c2a",
   "metadata": {},
   "outputs": [],
   "source": []
  },
  {
   "cell_type": "code",
   "execution_count": null,
   "id": "2ef213cc",
   "metadata": {},
   "outputs": [],
   "source": []
  },
  {
   "cell_type": "code",
   "execution_count": null,
   "id": "df7ec56e",
   "metadata": {},
   "outputs": [],
   "source": [
    "import random\n",
    "difficulty=1\n",
    "health = 50\n",
    "potion_health = int(random.randint(25, 50) / difficulty)\n",
    "health = health + potion_health\n",
    "print(health)"
   ]
  },
  {
   "cell_type": "code",
   "execution_count": null,
   "id": "9c03dcaf",
   "metadata": {},
   "outputs": [],
   "source": [
    "import math\n"
   ]
  },
  {
   "cell_type": "code",
   "execution_count": null,
   "id": "0fc6aac4",
   "metadata": {},
   "outputs": [],
   "source": [
    "'hello'\n",
    "name = 'danny'\n",
    "print(type(name))"
   ]
  },
  {
   "cell_type": "code",
   "execution_count": null,
   "id": "5049cde6",
   "metadata": {},
   "outputs": [],
   "source": [
    "hello = 'Hello World!'\n",
    "print(hello)"
   ]
  },
  {
   "cell_type": "code",
   "execution_count": null,
   "id": "69e5dca9",
   "metadata": {},
   "outputs": [],
   "source": [
    "# Ask user for name.\n",
    "Name = input('What is your name?: ')\n",
    "# Ask user for age.\n",
    "Age = input('How old are you?: ')\n",
    "# Ask user for city.\n",
    "Location = input('What city do you live in?: ')\n",
    "# Ask use what they enjoy.\n",
    "Enjoy = input('What types of things do you enjoy doing?: ')\n",
    "# Create output text.\n",
    "String = (\"Hello, {} you're {} years old. You live in {}, and enjoy {}.\" )\n",
    "Output = String.format(Name, Age, Location, Enjoy)\n",
    "#Print output to screen.\n",
    "print(Output)\n"
   ]
  },
  {
   "cell_type": "code",
   "execution_count": null,
   "id": "efb64030",
   "metadata": {},
   "outputs": [],
   "source": [
    "word = 'supercalifragilisticexpialidocious'"
   ]
  },
  {
   "cell_type": "code",
   "execution_count": null,
   "id": "6c2842b6",
   "metadata": {},
   "outputs": [],
   "source": [
    "word[2]"
   ]
  },
  {
   "cell_type": "code",
   "execution_count": null,
   "id": "a2716605",
   "metadata": {},
   "outputs": [],
   "source": [
    "word[0:5:1]"
   ]
  },
  {
   "cell_type": "code",
   "execution_count": null,
   "id": "1a02325e",
   "metadata": {},
   "outputs": [],
   "source": [
    "word[5:9:1]"
   ]
  },
  {
   "cell_type": "code",
   "execution_count": null,
   "id": "045bf1fe",
   "metadata": {},
   "outputs": [],
   "source": [
    "word[::]"
   ]
  },
  {
   "cell_type": "code",
   "execution_count": null,
   "id": "c376fc01",
   "metadata": {},
   "outputs": [],
   "source": [
    "word.index('cali')"
   ]
  },
  {
   "cell_type": "code",
   "execution_count": null,
   "id": "afefe586",
   "metadata": {},
   "outputs": [],
   "source": [
    "word = \"antidisestablishmentarianism\""
   ]
  },
  {
   "cell_type": "code",
   "execution_count": null,
   "id": "a1103bcd",
   "metadata": {},
   "outputs": [],
   "source": [
    "answer = word[word.index('establishment'):word.index('arianism'):1]"
   ]
  },
  {
   "cell_type": "code",
   "execution_count": null,
   "id": "a9526251",
   "metadata": {},
   "outputs": [],
   "source": [
    "answer"
   ]
  },
  {
   "cell_type": "code",
   "execution_count": null,
   "id": "b4f9bcec",
   "metadata": {},
   "outputs": [],
   "source": [
    "email = input('What is your email address?: ').strip()\n",
    "username = email[:email.index(\"@\"):1]\n",
    "domain = email[email.index(\"@\")+1:]\n",
    "output_message = \"Your user name is {} and your domain name is {}.\".format(username, domain)\n",
    "print(output_message)"
   ]
  },
  {
   "cell_type": "code",
   "execution_count": null,
   "id": "c0d279ec",
   "metadata": {},
   "outputs": [],
   "source": [
    "2>3"
   ]
  },
  {
   "cell_type": "code",
   "execution_count": null,
   "id": "72ad00aa",
   "metadata": {},
   "outputs": [],
   "source": [
    "type(2>3)"
   ]
  },
  {
   "cell_type": "code",
   "execution_count": null,
   "id": "774d9046",
   "metadata": {},
   "outputs": [],
   "source": [
    "2 == 1+1"
   ]
  },
  {
   "cell_type": "code",
   "execution_count": null,
   "id": "db354534",
   "metadata": {},
   "outputs": [],
   "source": [
    "2 != 3"
   ]
  },
  {
   "cell_type": "code",
   "execution_count": null,
   "id": "017a0b32",
   "metadata": {},
   "outputs": [],
   "source": [
    "Known_User = [\"Danny\", \"Box\", \"Nina\", \"Becca\", \"Jim\", \"Sarah\", \"Sora\", \"Justin\"]\n",
    "\n",
    "while True:\n",
    "    print(\"Hi! My name is Travis!\")\n",
    "    User_Name = input(\"What is your name?: \").strip().capitalize()\n",
    "    \n",
    "    if User_Name in Known_User:\n",
    "        print_message = \"Hello, {}!\".format(User_Name)\n",
    "        print(print_message)\n",
    "        remove = input(\"Would you like to be removed from the system (y/n)?: \").lower()\n",
    "        if remove == 'y':\n",
    "            Known_User.remove(User_Name)\n",
    "        elif remove == 'n':\n",
    "            print(\"No problem, I didn't want you to leave anyway\")\n",
    "    else:\n",
    "        print(\"Hmm, I don't think I have met you yet{} \".format(User_Name))\n",
    "        add_me = input(\"Would you like to be added to the system (y'n)?\".strip().lower())\n",
    "        if add_me == \"y\":\n",
    "            Known_User.append(User_Name)\n",
    "        elif add_me == 'n':\n",
    "            print(\"You have not been added to the list.\")"
   ]
  },
  {
   "cell_type": "code",
   "execution_count": 4,
   "id": "7042e1f6",
   "metadata": {},
   "outputs": [
    {
     "name": "stdout",
     "output_type": "stream",
     "text": [
      "Hi! My name is Travis!\n",
      "What is your name?: Danny\n",
      "Hello, Danny!\n",
      "Would you like to be removed from the system (y/n)?: y\n"
     ]
    }
   ],
   "source": [
    "Known_User = [\"Becca\",\"Box\", \"Nina\", \"Jim\", \"Sarah\", \"Sora\", \"Danny\", \"Justin\"]\n",
    "\n",
    "\n",
    "print(\"Hi! My name is Travis!\")\n",
    "User_Name = input(\"What is your name?: \").strip().capitalize()\n",
    "    \n",
    "if User_Name in Known_User:\n",
    "    print_message = \"Hello, {}!\".format(User_Name)\n",
    "    print(print_message)\n",
    "    remove = input(\"Would you like to be removed from the system (y/n)?: \").lower()\n",
    "    if remove == 'y':\n",
    "        Known_User.remove(User_Name)\n",
    "    elif remove == 'n':\n",
    "        print(\"No problem, I didn't want you to leave anyway\")\n",
    "else:\n",
    "    print(\"Hmm, I don't think I have met you yet{} \".format(User_Name))\n",
    "    add_me = input(\"Would you like to be added to the system (y'n)?\".strip().lower())\n",
    "    if add_me == \"y\":\n",
    "        Known_User.append(User_Name)\n",
    "    elif add_me == 'n':\n",
    "        print(\"You have not been added to the list.\")"
   ]
  },
  {
   "cell_type": "code",
   "execution_count": null,
   "id": "0cef1f60",
   "metadata": {},
   "outputs": [],
   "source": [
    "Films = {\n",
    "    \"Ron's Gone Wild\": [3,5],\n",
    "    \"The Last Duel\": [18,5],\n",
    "    \"Free Guy\": [14, 5],\n",
    "    \"Dune\": [12,5]\n",
    "}\n",
    "\n",
    "while True:\n",
    "    Movie_choice = input('What movie would you like to watch today?: ').title().strip()\n",
    "    if Movie_choice in Films:\n",
    "        User_age = int(input(\"Please enter your age.: \").strip())\n",
    "        if User_age >= Films[Movie_choice][0]:\n",
    "            if Films[Movie_choice][1]>0:\n",
    "                print(\"Enjoy your movie!\")\n",
    "                Films[Movie_choice][1] = Films[Movie_choice][1] - 1\n",
    "            else:\n",
    "                print(\"Sorry this movie is sold out.\")\n",
    "        else:\n",
    "            print(\"You are too young to watch this movie.\")\n",
    "    else:\n",
    "        print(\"This movie is unavailable.\")"
   ]
  },
  {
   "cell_type": "code",
   "execution_count": 7,
   "id": "cbc91d26",
   "metadata": {},
   "outputs": [
    {
     "name": "stdout",
     "output_type": "stream",
     "text": [
      "Please enter the following information.\n",
      "What is your total race time?: 45\n",
      "What is your lap time: 2\n",
      "How much fuel is used per lap: 3\n",
      "67.5\n"
     ]
    }
   ],
   "source": [
    "print('Please enter the following information.')\n",
    "trt = int(input('What is your total race time?: '))\n",
    "lt = int(input('What is your lap time: '))\n",
    "fpl = int(input('How much fuel is used per lap: '))\n",
    "race_calc = trt / lt * fpl\n",
    "print(race_calc)"
   ]
  },
  {
   "cell_type": "code",
   "execution_count": 6,
   "id": "8cee9714",
   "metadata": {},
   "outputs": [
    {
     "name": "stdout",
     "output_type": "stream",
     "text": [
      "Input hours: 2\n",
      "Input minutes: 2\n",
      "Input seconds: 2\n"
     ]
    }
   ],
   "source": [
    "hours = int(input(\"Input hours: \")) * 3600\n",
    "minutes = int(input(\"Input minutes: \")) * 60\n",
    "seconds = int(input(\"Input seconds: \"))\n",
    "\n",
    "time = hours + minutes + seconds\n"
   ]
  },
  {
   "cell_type": "markdown",
   "id": "4ab0b255",
   "metadata": {},
   "source": [
    "Define a function called myfunc that takes in a string, and returns a matching string where every\n",
    "even letter is uppercase, and every odd letter is lowercase. Assume that the incoming string only\n",
    "contains letters, and don't worry about numbers, spaces or punctuation. The output string\n",
    "can start with either an uppercase or lowercase letter, so long as letters alternate throughout the\n",
    "string\n",
    "\n",
    "1. create the empty list, out\n",
    "\n",
    "2. loop through all the valid indexes of x, which is what range(len(x)) returns\n",
    "\n",
    "3. check if the index, i is evenly divisible by 2. If so, append the letter at index i to out after converting it to lowercase; if not, append the letter at index i to out after converting to uppercase.\n",
    "\n",
    "5. use join to convert the list to a string, then return that string."
   ]
  },
  {
   "cell_type": "code",
   "execution_count": 14,
   "id": "84ed67b5",
   "metadata": {},
   "outputs": [],
   "source": [
    "def myfunc(args):\n",
    "    output=[]\n",
    "    for x in range(len(args)):\n",
    "        if x%2==0:\n",
    "            output.append(args[x].lower())\n",
    "        else:\n",
    "            output.append(args[x].upper())\n",
    "    return ''.join(output)"
   ]
  },
  {
   "cell_type": "code",
   "execution_count": 7,
   "id": "051aa566",
   "metadata": {},
   "outputs": [],
   "source": [
    "def say_hello(name='Default'):\n",
    "    print(f'Hello {name}')"
   ]
  },
  {
   "cell_type": "code",
   "execution_count": 10,
   "id": "f21122c7",
   "metadata": {},
   "outputs": [
    {
     "name": "stdout",
     "output_type": "stream",
     "text": [
      "Hello danny\n"
     ]
    }
   ],
   "source": [
    "say_hello('danny')"
   ]
  },
  {
   "cell_type": "code",
   "execution_count": 15,
   "id": "6699ad93",
   "metadata": {},
   "outputs": [
    {
     "data": {
      "text/plain": [
       "'aBcDeFgHiJkLmNoPqRsTuVwXyZ'"
      ]
     },
     "execution_count": 15,
     "metadata": {},
     "output_type": "execute_result"
    }
   ],
   "source": [
    "myfunc('abcdefghijklmnopqrstuvwxyz')"
   ]
  },
  {
   "cell_type": "code",
   "execution_count": 10,
   "id": "3231b722",
   "metadata": {},
   "outputs": [],
   "source": [
    "def name_of_function():\n",
    "    '''\n",
    "    This is where the function's Document String (docstring) goes.\n",
    "    When you call help() on your function it will be printed out.\n",
    "    '''\n",
    "    #Do stuff here\n",
    "    print (\"this is a function\",)\n"
   ]
  },
  {
   "cell_type": "code",
   "execution_count": 9,
   "id": "12bade20",
   "metadata": {},
   "outputs": [
    {
     "name": "stdout",
     "output_type": "stream",
     "text": [
      "this is a function Hello\n"
     ]
    }
   ],
   "source": [
    "name_of_function()"
   ]
  },
  {
   "cell_type": "code",
   "execution_count": 2,
   "id": "85a77e92",
   "metadata": {},
   "outputs": [],
   "source": [
    "tuple_example = [(\"item_1\", \"item_2\"), (\"item 3\", 4), (5, 6)]"
   ]
  },
  {
   "cell_type": "code",
   "execution_count": 11,
   "id": "b8332eed",
   "metadata": {},
   "outputs": [
    {
     "data": {
      "text/plain": [
       "0"
      ]
     },
     "execution_count": 11,
     "metadata": {},
     "output_type": "execute_result"
    }
   ],
   "source": [
    "tuple_example.count(\"item_2\")"
   ]
  },
  {
   "cell_type": "code",
   "execution_count": 17,
   "id": "a8d2bd74",
   "metadata": {},
   "outputs": [
    {
     "name": "stdout",
     "output_type": "stream",
     "text": [
      "('item_1', 'item_2')\n",
      "('item 3', 4)\n",
      "(5, 6)\n"
     ]
    }
   ],
   "source": [
    "for item in tuple_example:\n",
    "    print(item)"
   ]
  },
  {
   "cell_type": "code",
   "execution_count": 18,
   "id": "6fc20177",
   "metadata": {},
   "outputs": [
    {
     "name": "stdout",
     "output_type": "stream",
     "text": [
      "item_1\n",
      "item 3\n",
      "5\n"
     ]
    }
   ],
   "source": [
    "for item1,item2 in tuple_example:\n",
    "    print(item1)"
   ]
  },
  {
   "cell_type": "code",
   "execution_count": 19,
   "id": "a64ff15b",
   "metadata": {},
   "outputs": [
    {
     "name": "stdout",
     "output_type": "stream",
     "text": [
      "item_1\n",
      "item_2\n",
      "item 3\n",
      "4\n",
      "5\n",
      "6\n"
     ]
    }
   ],
   "source": [
    "for item1,item2 in tuple_example:\n",
    "    print(item1)\n",
    "    print(item2)"
   ]
  },
  {
   "cell_type": "code",
   "execution_count": 8,
   "id": "236b7f8b",
   "metadata": {},
   "outputs": [],
   "source": [
    "time_scale = [('1 year',365),('1 decade',3650),('1 century',36500),('1 millennium',365000)]"
   ]
  },
  {
   "cell_type": "code",
   "execution_count": 9,
   "id": "97069dc6",
   "metadata": {},
   "outputs": [],
   "source": [
    "def time_length_check(time_scale):\n",
    "    #variable placeholders\n",
    "    unit_of_time = ''\n",
    "    amount_of_days = 0\n",
    "\n",
    "#when dealing with tuples you must include an iterator for each item inside the tuples if you wish to access them both.\n",
    "    for unit,days in time_scale:\n",
    "        if amount_of_days < days:\n",
    "            amount_of_days = days\n",
    "            unit_of_time = unit\n",
    "        else:\n",
    "            pass\n",
    "    return (unit_of_time, amount_of_days)"
   ]
  },
  {
   "cell_type": "code",
   "execution_count": 10,
   "id": "be1b5707",
   "metadata": {},
   "outputs": [
    {
     "data": {
      "text/plain": [
       "('1 millennium', 365000)"
      ]
     },
     "execution_count": 10,
     "metadata": {},
     "output_type": "execute_result"
    }
   ],
   "source": [
    "time_length_check(time_scale)"
   ]
  },
  {
   "cell_type": "code",
   "execution_count": 40,
   "id": "d6e1e034",
   "metadata": {},
   "outputs": [],
   "source": [
    "from random import shuffle"
   ]
  },
  {
   "cell_type": "code",
   "execution_count": 41,
   "id": "416d8437",
   "metadata": {},
   "outputs": [],
   "source": [
    "def shell_randomizer(shell_game_token):\n",
    "    shuffle(shell_game_token)\n",
    "    return shell_game_token"
   ]
  },
  {
   "cell_type": "code",
   "execution_count": 42,
   "id": "41925a08",
   "metadata": {},
   "outputs": [],
   "source": [
    "shell_game_token = ['','O','']"
   ]
  },
  {
   "cell_type": "code",
   "execution_count": 48,
   "id": "2033f67c",
   "metadata": {},
   "outputs": [],
   "source": [
    "def player_guess():\n",
    "    guess = ''\n",
    "    while guess not in ['0','1','2']: \n",
    "        guess = input('pick a number: 0, 1, or 2')\n",
    "    return int(guess)"
   ]
  },
  {
   "cell_type": "code",
   "execution_count": 44,
   "id": "ed3b0287",
   "metadata": {},
   "outputs": [
    {
     "name": "stdout",
     "output_type": "stream",
     "text": [
      "pick a number: 1, 2, or 3\n",
      "pick a number: 1, 2, or 3\n",
      "pick a number: 1, 2, or 3\n",
      "pick a number: 1, 2, or 32\n"
     ]
    },
    {
     "data": {
      "text/plain": [
       "2"
      ]
     },
     "execution_count": 44,
     "metadata": {},
     "output_type": "execute_result"
    }
   ],
   "source": [
    "player_guess()"
   ]
  },
  {
   "cell_type": "code",
   "execution_count": 30,
   "id": "b428c9f9",
   "metadata": {},
   "outputs": [
    {
     "name": "stdout",
     "output_type": "stream",
     "text": [
      "pick a number: 1, 2, or 31\n"
     ]
    }
   ],
   "source": [
    "guess_attempt = player_guess()"
   ]
  },
  {
   "cell_type": "code",
   "execution_count": 45,
   "id": "e745d0a8",
   "metadata": {},
   "outputs": [
    {
     "data": {
      "text/plain": [
       "1"
      ]
     },
     "execution_count": 45,
     "metadata": {},
     "output_type": "execute_result"
    }
   ],
   "source": [
    "guess_attempt"
   ]
  },
  {
   "cell_type": "code",
   "execution_count": 49,
   "id": "3f6520a1",
   "metadata": {},
   "outputs": [],
   "source": [
    "def guess_checker(shell_game_token,guess):\n",
    "    if shell_game_token[guess] == 'O':\n",
    "        print('Congragulations, you guessed correct!')\n",
    "    else:\n",
    "        print('Wrong guess, try again next time!')\n",
    "        print(shell_game_token)"
   ]
  },
  {
   "cell_type": "code",
   "execution_count": 51,
   "id": "b4eedf52",
   "metadata": {},
   "outputs": [
    {
     "name": "stdout",
     "output_type": "stream",
     "text": [
      "pick a number: 0, 1, or 21\n",
      "Congragulations, you guessed correct!\n"
     ]
    }
   ],
   "source": [
    "shell_game_token = ['','O','']\n",
    "shuffled_token = shell_randomizer(shell_game_token)\n",
    "guess = player_guess()\n",
    "guess_checker(shuffled_token,guess)"
   ]
  },
  {
   "cell_type": "markdown",
   "id": "9628a5fd",
   "metadata": {},
   "source": [
    "#### ALMOST THERE: Given an integer n, return True if n is within 10 of either 100 or 200\n",
    "\n",
    "    almost_there(90) --> True\n",
    "    almost_there(104) --> True\n",
    "    almost_there(150) --> False\n",
    "    almost_there(209) --> True\n",
    "    \n",
    "NOTE: `abs(num)` returns the absolute value of a number"
   ]
  },
  {
   "cell_type": "code",
   "execution_count": 41,
   "id": "d74ec712",
   "metadata": {},
   "outputs": [],
   "source": [
    "def almost_there(n):\n",
    "    if int(abs(n))-100 < 10:\n",
    "        return True\n",
    "    elif int(abs(n))-200 <10:\n",
    "        return True\n",
    "    else:\n",
    "        return False"
   ]
  },
  {
   "cell_type": "code",
   "execution_count": 42,
   "id": "a73ba6b0",
   "metadata": {},
   "outputs": [
    {
     "data": {
      "text/plain": [
       "True"
      ]
     },
     "execution_count": 42,
     "metadata": {},
     "output_type": "execute_result"
    }
   ],
   "source": [
    "# Check\n",
    "almost_there(104)"
   ]
  },
  {
   "cell_type": "code",
   "execution_count": 43,
   "id": "7b051fc1",
   "metadata": {},
   "outputs": [
    {
     "data": {
      "text/plain": [
       "True"
      ]
     },
     "execution_count": 43,
     "metadata": {},
     "output_type": "execute_result"
    }
   ],
   "source": [
    "# Check\n",
    "almost_there(150)"
   ]
  },
  {
   "cell_type": "code",
   "execution_count": 44,
   "id": "b6097b26",
   "metadata": {},
   "outputs": [
    {
     "data": {
      "text/plain": [
       "True"
      ]
     },
     "execution_count": 44,
     "metadata": {},
     "output_type": "execute_result"
    }
   ],
   "source": [
    "# Check\n",
    "almost_there(209)"
   ]
  },
  {
   "cell_type": "markdown",
   "id": "02359296",
   "metadata": {},
   "source": [
    "#### FIND 33: \n",
    "\n",
    "Given a list of ints, return True if the array contains a 3 next to a 3 somewhere.\n",
    "\n",
    "    has_33([1, 3, 3]) → True\n",
    "    has_33([1, 3, 1, 3]) → False\n",
    "    has_33([3, 1, 3]) → False"
   ]
  },
  {
   "cell_type": "code",
   "execution_count": 12,
   "id": "e67223f7",
   "metadata": {},
   "outputs": [],
   "source": [
    "def has_33(nums):\n",
    "    for i in nums:\n",
    "        if str(nums[i])+str(nums[i+1])=='33':\n",
    "            return True\n",
    "        else:\n",
    "            return False\n",
    "    pass"
   ]
  },
  {
   "cell_type": "code",
   "execution_count": 13,
   "id": "52dee41e",
   "metadata": {},
   "outputs": [
    {
     "name": "stdout",
     "output_type": "stream",
     "text": [
      "not working\n"
     ]
    }
   ],
   "source": [
    "# Check\n",
    "has_33([1, 3, 3])"
   ]
  },
  {
   "cell_type": "code",
   "execution_count": 14,
   "id": "5a72a4ff",
   "metadata": {},
   "outputs": [
    {
     "name": "stdout",
     "output_type": "stream",
     "text": [
      "not working\n"
     ]
    }
   ],
   "source": [
    "# Check\n",
    "has_33([1, 3, 1, 3])"
   ]
  },
  {
   "cell_type": "code",
   "execution_count": 15,
   "id": "37a821a3",
   "metadata": {},
   "outputs": [
    {
     "name": "stdout",
     "output_type": "stream",
     "text": [
      "not working\n"
     ]
    }
   ],
   "source": [
    "# Check\n",
    "has_33([3, 1, 3])"
   ]
  },
  {
   "cell_type": "code",
   "execution_count": 50,
   "id": "8b3ae418",
   "metadata": {},
   "outputs": [],
   "source": [
    "test_list_one = [1,2,3]\n",
    "test_list_two = [3,4,5]"
   ]
  },
  {
   "cell_type": "code",
   "execution_count": 54,
   "id": "4ab4fec5",
   "metadata": {},
   "outputs": [
    {
     "data": {
      "text/plain": [
       "3"
      ]
     },
     "execution_count": 54,
     "metadata": {},
     "output_type": "execute_result"
    }
   ],
   "source": [
    "test_list_one[0]+test_list_one[1]"
   ]
  },
  {
   "cell_type": "code",
   "execution_count": null,
   "id": "b4c05d6f",
   "metadata": {},
   "outputs": [],
   "source": []
  },
  {
   "cell_type": "code",
   "execution_count": 2,
   "id": "11422c24",
   "metadata": {},
   "outputs": [
    {
     "ename": "SyntaxError",
     "evalue": "invalid syntax (1988067034.py, line 1)",
     "output_type": "error",
     "traceback": [
      "\u001b[1;36m  Input \u001b[1;32mIn [2]\u001b[1;36m\u001b[0m\n\u001b[1;33m    while\u001b[0m\n\u001b[1;37m          ^\u001b[0m\n\u001b[1;31mSyntaxError\u001b[0m\u001b[1;31m:\u001b[0m invalid syntax\n"
     ]
    }
   ],
   "source": [
    "Box = 'Boomer'\n",
    "while True\n",
    " if Box == 'Boomer'"
   ]
  },
  {
   "cell_type": "code",
   "execution_count": null,
   "id": "b2d0ab23",
   "metadata": {},
   "outputs": [],
   "source": []
  }
 ],
 "metadata": {
  "kernelspec": {
   "display_name": "Python 3 (ipykernel)",
   "language": "python",
   "name": "python3"
  },
  "language_info": {
   "codemirror_mode": {
    "name": "ipython",
    "version": 3
   },
   "file_extension": ".py",
   "mimetype": "text/x-python",
   "name": "python",
   "nbconvert_exporter": "python",
   "pygments_lexer": "ipython3",
   "version": "3.9.12"
  }
 },
 "nbformat": 4,
 "nbformat_minor": 5
}
